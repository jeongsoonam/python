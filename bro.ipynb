{
 "cells": [
  {
   "cell_type": "code",
   "execution_count": 374,
   "metadata": {},
   "outputs": [],
   "source": [
    "import numpy as np\n",
    "import pandas as pd"
   ]
  },
  {
   "cell_type": "code",
   "execution_count": 442,
   "metadata": {},
   "outputs": [],
   "source": [
    "sam=pd.read_excel('gn\\sample.xlsx')"
   ]
  },
  {
   "cell_type": "code",
   "execution_count": 443,
   "metadata": {},
   "outputs": [
    {
     "data": {
      "text/html": [
       "<div>\n",
       "<style scoped>\n",
       "    .dataframe tbody tr th:only-of-type {\n",
       "        vertical-align: middle;\n",
       "    }\n",
       "\n",
       "    .dataframe tbody tr th {\n",
       "        vertical-align: top;\n",
       "    }\n",
       "\n",
       "    .dataframe thead th {\n",
       "        text-align: right;\n",
       "    }\n",
       "</style>\n",
       "<table border=\"1\" class=\"dataframe\">\n",
       "  <thead>\n",
       "    <tr style=\"text-align: right;\">\n",
       "      <th></th>\n",
       "      <th>Unnamed: 0</th>\n",
       "      <th>enb_id</th>\n",
       "      <th>cellnum</th>\n",
       "      <th>enb_cell</th>\n",
       "      <th>pci</th>\n",
       "      <th>frequency</th>\n",
       "      <th>enb_pci</th>\n",
       "      <th>etl_dt</th>\n",
       "      <th>freq_classify</th>\n",
       "      <th>bts_name</th>\n",
       "      <th>...</th>\n",
       "      <th>cell_lat</th>\n",
       "      <th>cell_lng</th>\n",
       "      <th>mcp_nm</th>\n",
       "      <th>sgg_nm</th>\n",
       "      <th>emd_nm</th>\n",
       "      <th>freq_code</th>\n",
       "      <th>part_id</th>\n",
       "      <th>part_name</th>\n",
       "      <th>freq_cnt</th>\n",
       "      <th>sigu_nm</th>\n",
       "    </tr>\n",
       "  </thead>\n",
       "  <tbody>\n",
       "    <tr>\n",
       "      <th>0</th>\n",
       "      <td>0</td>\n",
       "      <td>34288</td>\n",
       "      <td>2</td>\n",
       "      <td>34288_2</td>\n",
       "      <td>399</td>\n",
       "      <td>4.0</td>\n",
       "      <td>34288_399</td>\n",
       "      <td>20190224</td>\n",
       "      <td>2.6GHz(10M)</td>\n",
       "      <td>SKB해운대국사_해운대좌동L0</td>\n",
       "      <td>...</td>\n",
       "      <td>35.168056</td>\n",
       "      <td>129.179167</td>\n",
       "      <td>부산</td>\n",
       "      <td>해운대구</td>\n",
       "      <td>좌동</td>\n",
       "      <td>4</td>\n",
       "      <td>1101</td>\n",
       "      <td>경남/동부산품질개선팀</td>\n",
       "      <td>4</td>\n",
       "      <td>부산해운대구</td>\n",
       "    </tr>\n",
       "    <tr>\n",
       "      <th>1</th>\n",
       "      <td>1</td>\n",
       "      <td>34288</td>\n",
       "      <td>1</td>\n",
       "      <td>34288_1</td>\n",
       "      <td>399</td>\n",
       "      <td>9.0</td>\n",
       "      <td>34288_399</td>\n",
       "      <td>20190224</td>\n",
       "      <td>2.6GHz(20M)</td>\n",
       "      <td>SKB해운대국사_해운대좌동L0</td>\n",
       "      <td>...</td>\n",
       "      <td>35.200833</td>\n",
       "      <td>129.152500</td>\n",
       "      <td>부산</td>\n",
       "      <td>해운대구</td>\n",
       "      <td>반여동</td>\n",
       "      <td>9</td>\n",
       "      <td>1101</td>\n",
       "      <td>경남/동부산품질개선팀</td>\n",
       "      <td>4</td>\n",
       "      <td>부산해운대구</td>\n",
       "    </tr>\n",
       "    <tr>\n",
       "      <th>2</th>\n",
       "      <td>2</td>\n",
       "      <td>34288</td>\n",
       "      <td>0</td>\n",
       "      <td>34288_0</td>\n",
       "      <td>399</td>\n",
       "      <td>5.0</td>\n",
       "      <td>34288_399</td>\n",
       "      <td>20190224</td>\n",
       "      <td>1.8GHz</td>\n",
       "      <td>SKB해운대국사_해운대좌동L0</td>\n",
       "      <td>...</td>\n",
       "      <td>35.198923</td>\n",
       "      <td>129.150121</td>\n",
       "      <td>부산</td>\n",
       "      <td>해운대구</td>\n",
       "      <td>반여동</td>\n",
       "      <td>5</td>\n",
       "      <td>1101</td>\n",
       "      <td>경남/동부산품질개선팀</td>\n",
       "      <td>4</td>\n",
       "      <td>부산해운대구</td>\n",
       "    </tr>\n",
       "    <tr>\n",
       "      <th>3</th>\n",
       "      <td>3</td>\n",
       "      <td>34288</td>\n",
       "      <td>3</td>\n",
       "      <td>34288_3</td>\n",
       "      <td>399</td>\n",
       "      <td>1.0</td>\n",
       "      <td>34288_399</td>\n",
       "      <td>20190224</td>\n",
       "      <td>800MHz</td>\n",
       "      <td>SKB해운대국사_해운대좌동L0</td>\n",
       "      <td>...</td>\n",
       "      <td>35.198923</td>\n",
       "      <td>129.150121</td>\n",
       "      <td>부산</td>\n",
       "      <td>해운대구</td>\n",
       "      <td>반여동</td>\n",
       "      <td>1</td>\n",
       "      <td>1101</td>\n",
       "      <td>경남/동부산품질개선팀</td>\n",
       "      <td>4</td>\n",
       "      <td>부산해운대구</td>\n",
       "    </tr>\n",
       "    <tr>\n",
       "      <th>4</th>\n",
       "      <td>4</td>\n",
       "      <td>34288</td>\n",
       "      <td>6</td>\n",
       "      <td>34288_6</td>\n",
       "      <td>413</td>\n",
       "      <td>4.0</td>\n",
       "      <td>34288_413</td>\n",
       "      <td>20190224</td>\n",
       "      <td>2.6GHz(10M)</td>\n",
       "      <td>SKB해운대국사_해운대좌동L0</td>\n",
       "      <td>...</td>\n",
       "      <td>35.168056</td>\n",
       "      <td>129.179167</td>\n",
       "      <td>부산</td>\n",
       "      <td>해운대구</td>\n",
       "      <td>좌동</td>\n",
       "      <td>4</td>\n",
       "      <td>1101</td>\n",
       "      <td>경남/동부산품질개선팀</td>\n",
       "      <td>4</td>\n",
       "      <td>부산해운대구</td>\n",
       "    </tr>\n",
       "  </tbody>\n",
       "</table>\n",
       "<p>5 rows × 21 columns</p>\n",
       "</div>"
      ],
      "text/plain": [
       "   Unnamed: 0  enb_id  cellnum enb_cell  pci  frequency    enb_pci    etl_dt  \\\n",
       "0           0   34288        2  34288_2  399        4.0  34288_399  20190224   \n",
       "1           1   34288        1  34288_1  399        9.0  34288_399  20190224   \n",
       "2           2   34288        0  34288_0  399        5.0  34288_399  20190224   \n",
       "3           3   34288        3  34288_3  399        1.0  34288_399  20190224   \n",
       "4           4   34288        6  34288_6  413        4.0  34288_413  20190224   \n",
       "\n",
       "  freq_classify          bts_name  ...   cell_lat    cell_lng  mcp_nm sgg_nm  \\\n",
       "0   2.6GHz(10M)  SKB해운대국사_해운대좌동L0  ...  35.168056  129.179167      부산   해운대구   \n",
       "1   2.6GHz(20M)  SKB해운대국사_해운대좌동L0  ...  35.200833  129.152500      부산   해운대구   \n",
       "2        1.8GHz  SKB해운대국사_해운대좌동L0  ...  35.198923  129.150121      부산   해운대구   \n",
       "3        800MHz  SKB해운대국사_해운대좌동L0  ...  35.198923  129.150121      부산   해운대구   \n",
       "4   2.6GHz(10M)  SKB해운대국사_해운대좌동L0  ...  35.168056  129.179167      부산   해운대구   \n",
       "\n",
       "  emd_nm freq_code  part_id    part_name freq_cnt  sigu_nm  \n",
       "0     좌동         4     1101  경남/동부산품질개선팀        4   부산해운대구  \n",
       "1    반여동         9     1101  경남/동부산품질개선팀        4   부산해운대구  \n",
       "2    반여동         5     1101  경남/동부산품질개선팀        4   부산해운대구  \n",
       "3    반여동         1     1101  경남/동부산품질개선팀        4   부산해운대구  \n",
       "4     좌동         4     1101  경남/동부산품질개선팀        4   부산해운대구  \n",
       "\n",
       "[5 rows x 21 columns]"
      ]
     },
     "execution_count": 443,
     "metadata": {},
     "output_type": "execute_result"
    }
   ],
   "source": [
    "sam.head()"
   ]
  },
  {
   "cell_type": "code",
   "execution_count": 444,
   "metadata": {},
   "outputs": [],
   "source": [
    "sam.columns.values[0]='id1'\n",
    "sam.inplace=True"
   ]
  },
  {
   "cell_type": "code",
   "execution_count": 445,
   "metadata": {},
   "outputs": [],
   "source": [
    "sam.reset_index(inplace=True)"
   ]
  },
  {
   "cell_type": "code",
   "execution_count": 446,
   "metadata": {},
   "outputs": [
    {
     "data": {
      "text/html": [
       "<div>\n",
       "<style scoped>\n",
       "    .dataframe tbody tr th:only-of-type {\n",
       "        vertical-align: middle;\n",
       "    }\n",
       "\n",
       "    .dataframe tbody tr th {\n",
       "        vertical-align: top;\n",
       "    }\n",
       "\n",
       "    .dataframe thead th {\n",
       "        text-align: right;\n",
       "    }\n",
       "</style>\n",
       "<table border=\"1\" class=\"dataframe\">\n",
       "  <thead>\n",
       "    <tr style=\"text-align: right;\">\n",
       "      <th></th>\n",
       "      <th>index</th>\n",
       "      <th>id1</th>\n",
       "      <th>enb_id</th>\n",
       "      <th>cellnum</th>\n",
       "      <th>enb_cell</th>\n",
       "      <th>pci</th>\n",
       "      <th>frequency</th>\n",
       "      <th>enb_pci</th>\n",
       "      <th>etl_dt</th>\n",
       "      <th>freq_classify</th>\n",
       "      <th>...</th>\n",
       "      <th>cell_lat</th>\n",
       "      <th>cell_lng</th>\n",
       "      <th>mcp_nm</th>\n",
       "      <th>sgg_nm</th>\n",
       "      <th>emd_nm</th>\n",
       "      <th>freq_code</th>\n",
       "      <th>part_id</th>\n",
       "      <th>part_name</th>\n",
       "      <th>freq_cnt</th>\n",
       "      <th>sigu_nm</th>\n",
       "    </tr>\n",
       "  </thead>\n",
       "  <tbody>\n",
       "    <tr>\n",
       "      <th>0</th>\n",
       "      <td>0</td>\n",
       "      <td>0</td>\n",
       "      <td>34288</td>\n",
       "      <td>2</td>\n",
       "      <td>34288_2</td>\n",
       "      <td>399</td>\n",
       "      <td>4.0</td>\n",
       "      <td>34288_399</td>\n",
       "      <td>20190224</td>\n",
       "      <td>2.6GHz(10M)</td>\n",
       "      <td>...</td>\n",
       "      <td>35.168056</td>\n",
       "      <td>129.179167</td>\n",
       "      <td>부산</td>\n",
       "      <td>해운대구</td>\n",
       "      <td>좌동</td>\n",
       "      <td>4</td>\n",
       "      <td>1101</td>\n",
       "      <td>경남/동부산품질개선팀</td>\n",
       "      <td>4</td>\n",
       "      <td>부산해운대구</td>\n",
       "    </tr>\n",
       "  </tbody>\n",
       "</table>\n",
       "<p>1 rows × 22 columns</p>\n",
       "</div>"
      ],
      "text/plain": [
       "   index  id1  enb_id  cellnum enb_cell  pci  frequency    enb_pci    etl_dt  \\\n",
       "0      0    0   34288        2  34288_2  399        4.0  34288_399  20190224   \n",
       "\n",
       "  freq_classify  ...   cell_lat    cell_lng  mcp_nm  sgg_nm emd_nm freq_code  \\\n",
       "0   2.6GHz(10M)  ...  35.168056  129.179167      부산    해운대구     좌동         4   \n",
       "\n",
       "  part_id    part_name  freq_cnt sigu_nm  \n",
       "0    1101  경남/동부산품질개선팀         4  부산해운대구  \n",
       "\n",
       "[1 rows x 22 columns]"
      ]
     },
     "execution_count": 446,
     "metadata": {},
     "output_type": "execute_result"
    }
   ],
   "source": [
    "sam.head(1)"
   ]
  },
  {
   "cell_type": "code",
   "execution_count": 447,
   "metadata": {},
   "outputs": [],
   "source": [
    "sam=sam[['id1','enb_cell','cell_nm','cell_lat','cell_lng']]"
   ]
  },
  {
   "cell_type": "code",
   "execution_count": 448,
   "metadata": {},
   "outputs": [],
   "source": [
    "sam_lat=np.array(sam['cell_lat'])"
   ]
  },
  {
   "cell_type": "code",
   "execution_count": 449,
   "metadata": {},
   "outputs": [
    {
     "data": {
      "text/plain": [
       "array([35.168, 35.201, 35.199, 35.199, 35.168, 35.206, 35.206, 35.201,\n",
       "       35.183, 35.191, 35.168, 35.186, 35.168, 35.168, 35.168, 35.168,\n",
       "       35.168, 35.168, 35.168, 35.168, 35.161, 35.168, 35.173, 35.168,\n",
       "       35.173, 35.226, 35.226, 35.229, 35.229, 35.226, 35.226, 35.231,\n",
       "       35.231, 35.231, 35.233, 35.233, 35.214, 35.214, 35.211, 35.211,\n",
       "       35.235, 35.23 , 35.229, 35.233, 35.233, 35.249, 35.249, 35.249,\n",
       "       35.249, 35.249, 35.261, 35.249, 35.237, 35.237, 35.237, 35.249,\n",
       "       35.249, 35.238, 35.238, 35.27 , 35.249, 35.27 , 35.27 , 35.279,\n",
       "       35.249, 35.249, 35.249, 35.222, 35.222, 35.222, 35.222, 35.222,\n",
       "       35.221, 35.234, 35.234, 35.249, 35.249, 35.239, 35.2  , 35.193,\n",
       "       35.197, 35.201, 35.201, 35.212, 35.212, 35.212, 35.053, 35.053,\n",
       "       35.053, 35.058, 35.043, 35.043, 34.994, 35.033, 35.033, 35.037,\n",
       "       35.037, 35.22 , 35.22 , 35.227, 35.227, 35.227])"
      ]
     },
     "execution_count": 449,
     "metadata": {},
     "output_type": "execute_result"
    }
   ],
   "source": [
    "np.round(sam_lat,3)"
   ]
  },
  {
   "cell_type": "code",
   "execution_count": 450,
   "metadata": {},
   "outputs": [
    {
     "data": {
      "text/plain": [
       "(102,)"
      ]
     },
     "execution_count": 450,
     "metadata": {},
     "output_type": "execute_result"
    }
   ],
   "source": [
    "sam_lat.shape"
   ]
  },
  {
   "cell_type": "code",
   "execution_count": 451,
   "metadata": {},
   "outputs": [],
   "source": [
    "sam_lat=sam_lat.reshape(1,102)"
   ]
  },
  {
   "cell_type": "code",
   "execution_count": 452,
   "metadata": {},
   "outputs": [
    {
     "data": {
      "text/plain": [
       "array([[35.1680556, 35.2008333, 35.1989228, 35.1989228, 35.1680556,\n",
       "        35.2058353, 35.2056789, 35.2013983, 35.1827894, 35.1907481,\n",
       "        35.1680556, 35.1858758, 35.1680556, 35.1680556, 35.1680556,\n",
       "        35.1680556, 35.1680556, 35.1680556, 35.1680556, 35.1680556,\n",
       "        35.1608353, 35.1680556, 35.1727872, 35.1680556, 35.1728722,\n",
       "        35.2263889, 35.2263889, 35.2286217, 35.2288994, 35.2264019,\n",
       "        35.2263889, 35.2308008, 35.2308008, 35.2305792, 35.2325908,\n",
       "        35.2325908, 35.2141742, 35.2141742, 35.2105658, 35.2105658,\n",
       "        35.235    , 35.2303044, 35.2289156, 35.2325119, 35.2325119,\n",
       "        35.2494444, 35.2494444, 35.2494444, 35.2494444, 35.2494444,\n",
       "        35.2609839, 35.2494444, 35.23687  , 35.2368697, 35.2366869,\n",
       "        35.2494444, 35.2494444, 35.2381089, 35.2381089, 35.2697228,\n",
       "        35.2494444, 35.2697228, 35.2697228, 35.2788889, 35.2494447,\n",
       "        35.2494447, 35.2494447, 35.2222328, 35.2222328, 35.2219608,\n",
       "        35.2219608, 35.2216289, 35.2214011, 35.2341875, 35.2341875,\n",
       "        35.2494444, 35.2494444, 35.2386719, 35.2001383, 35.1927908,\n",
       "        35.1974489, 35.2013319, 35.2013319, 35.2122958, 35.2122294,\n",
       "        35.2122958, 35.0530808, 35.0534047, 35.0530808, 35.0575267,\n",
       "        35.04251  , 35.04251  , 34.9936117, 35.0328317, 35.0328317,\n",
       "        35.0369658, 35.0369658, 35.2202778, 35.2202778, 35.2272036,\n",
       "        35.2272036, 35.2269608]])"
      ]
     },
     "execution_count": 452,
     "metadata": {},
     "output_type": "execute_result"
    }
   ],
   "source": [
    "sam_lat"
   ]
  },
  {
   "cell_type": "code",
   "execution_count": 453,
   "metadata": {},
   "outputs": [],
   "source": [
    "sam_lat2=sam_lat.reshape(102,1)"
   ]
  },
  {
   "cell_type": "code",
   "execution_count": 454,
   "metadata": {},
   "outputs": [],
   "source": [
    "re=sam_lat-sam_lat2"
   ]
  },
  {
   "cell_type": "code",
   "execution_count": 455,
   "metadata": {},
   "outputs": [
    {
     "data": {
      "text/plain": [
       "array([[ 0.   ,  0.033,  0.031, ...,  0.059,  0.059,  0.059],\n",
       "       [-0.033,  0.   , -0.002, ...,  0.026,  0.026,  0.026],\n",
       "       [-0.031,  0.002,  0.   , ...,  0.028,  0.028,  0.028],\n",
       "       ...,\n",
       "       [-0.059, -0.026, -0.028, ...,  0.   ,  0.   , -0.   ],\n",
       "       [-0.059, -0.026, -0.028, ...,  0.   ,  0.   , -0.   ],\n",
       "       [-0.059, -0.026, -0.028, ...,  0.   ,  0.   ,  0.   ]])"
      ]
     },
     "execution_count": 455,
     "metadata": {},
     "output_type": "execute_result"
    }
   ],
   "source": [
    "np.round(re,3)"
   ]
  },
  {
   "cell_type": "code",
   "execution_count": 456,
   "metadata": {},
   "outputs": [],
   "source": [
    "re_abs=np.abs(re)"
   ]
  },
  {
   "cell_type": "code",
   "execution_count": 457,
   "metadata": {},
   "outputs": [],
   "source": [
    "re_abs=np.round(re_abs,3)"
   ]
  },
  {
   "cell_type": "code",
   "execution_count": 458,
   "metadata": {
    "scrolled": true
   },
   "outputs": [
    {
     "data": {
      "text/plain": [
       "array([[0.   , 0.033, 0.031, ..., 0.059, 0.059, 0.059],\n",
       "       [0.033, 0.   , 0.002, ..., 0.026, 0.026, 0.026],\n",
       "       [0.031, 0.002, 0.   , ..., 0.028, 0.028, 0.028],\n",
       "       ...,\n",
       "       [0.059, 0.026, 0.028, ..., 0.   , 0.   , 0.   ],\n",
       "       [0.059, 0.026, 0.028, ..., 0.   , 0.   , 0.   ],\n",
       "       [0.059, 0.026, 0.028, ..., 0.   , 0.   , 0.   ]])"
      ]
     },
     "execution_count": 458,
     "metadata": {},
     "output_type": "execute_result"
    }
   ],
   "source": [
    "re_abs"
   ]
  },
  {
   "cell_type": "code",
   "execution_count": 459,
   "metadata": {},
   "outputs": [],
   "source": [
    "out=(re_abs >0) & (re_abs <=0.002)"
   ]
  },
  {
   "cell_type": "code",
   "execution_count": 460,
   "metadata": {},
   "outputs": [
    {
     "data": {
      "text/plain": [
       "array([[False, False, False, ..., False, False, False],\n",
       "       [False, False,  True, ..., False, False, False],\n",
       "       [False,  True, False, ..., False, False, False],\n",
       "       ...,\n",
       "       [False, False, False, ..., False, False, False],\n",
       "       [False, False, False, ..., False, False, False],\n",
       "       [False, False, False, ..., False, False, False]])"
      ]
     },
     "execution_count": 460,
     "metadata": {},
     "output_type": "execute_result"
    }
   ],
   "source": [
    "out"
   ]
  },
  {
   "cell_type": "code",
   "execution_count": 461,
   "metadata": {},
   "outputs": [],
   "source": [
    "re_abs_re=np.argwhere(out==1)"
   ]
  },
  {
   "cell_type": "code",
   "execution_count": 462,
   "metadata": {},
   "outputs": [
    {
     "data": {
      "text/plain": [
       "264"
      ]
     },
     "execution_count": 462,
     "metadata": {},
     "output_type": "execute_result"
    }
   ],
   "source": [
    "len(re_abs_re)"
   ]
  },
  {
   "cell_type": "code",
   "execution_count": 463,
   "metadata": {},
   "outputs": [],
   "source": [
    "re_abs_re_pd=pd.DataFrame(re_abs_re)"
   ]
  },
  {
   "cell_type": "code",
   "execution_count": 464,
   "metadata": {},
   "outputs": [],
   "source": [
    "re_abs_re_pd.columns=('id1','target')"
   ]
  },
  {
   "cell_type": "code",
   "execution_count": 465,
   "metadata": {},
   "outputs": [
    {
     "data": {
      "text/plain": [
       "Index(['id1', 'target'], dtype='object')"
      ]
     },
     "execution_count": 465,
     "metadata": {},
     "output_type": "execute_result"
    }
   ],
   "source": [
    "re_abs_re_pd.columns"
   ]
  },
  {
   "cell_type": "code",
   "execution_count": 466,
   "metadata": {},
   "outputs": [
    {
     "data": {
      "text/html": [
       "<div>\n",
       "<style scoped>\n",
       "    .dataframe tbody tr th:only-of-type {\n",
       "        vertical-align: middle;\n",
       "    }\n",
       "\n",
       "    .dataframe tbody tr th {\n",
       "        vertical-align: top;\n",
       "    }\n",
       "\n",
       "    .dataframe thead th {\n",
       "        text-align: right;\n",
       "    }\n",
       "</style>\n",
       "<table border=\"1\" class=\"dataframe\">\n",
       "  <thead>\n",
       "    <tr style=\"text-align: right;\">\n",
       "      <th></th>\n",
       "      <th>id1</th>\n",
       "      <th>target</th>\n",
       "    </tr>\n",
       "  </thead>\n",
       "  <tbody>\n",
       "    <tr>\n",
       "      <th>0</th>\n",
       "      <td>1</td>\n",
       "      <td>2</td>\n",
       "    </tr>\n",
       "    <tr>\n",
       "      <th>1</th>\n",
       "      <td>1</td>\n",
       "      <td>3</td>\n",
       "    </tr>\n",
       "    <tr>\n",
       "      <th>2</th>\n",
       "      <td>1</td>\n",
       "      <td>7</td>\n",
       "    </tr>\n",
       "    <tr>\n",
       "      <th>3</th>\n",
       "      <td>1</td>\n",
       "      <td>78</td>\n",
       "    </tr>\n",
       "    <tr>\n",
       "      <th>4</th>\n",
       "      <td>2</td>\n",
       "      <td>1</td>\n",
       "    </tr>\n",
       "  </tbody>\n",
       "</table>\n",
       "</div>"
      ],
      "text/plain": [
       "   id1  target\n",
       "0    1       2\n",
       "1    1       3\n",
       "2    1       7\n",
       "3    1      78\n",
       "4    2       1"
      ]
     },
     "execution_count": 466,
     "metadata": {},
     "output_type": "execute_result"
    }
   ],
   "source": [
    "re_abs_re_pd.head()"
   ]
  },
  {
   "cell_type": "code",
   "execution_count": 434,
   "metadata": {},
   "outputs": [],
   "source": [
    "# sam.head()"
   ]
  },
  {
   "cell_type": "code",
   "execution_count": 435,
   "metadata": {},
   "outputs": [],
   "source": [
    "# cell_merge = pd.merge(re_abs_re_pd,sam,how='left', left_on='id',right_on='id')\n",
    "# cell_merge = sam.merge(re_abs_re_pd,on='id',how='left')\n",
    "# cell_merge = pd.merge(re_abs_re_pd,sam,how='left', left_on='target',right_on='id')\n",
    "# sam_cell=sam[['id','enb_cell']]\n",
    "# cell_merge=re_abs_re_pd.join(sam, on='id', how='left', lsuffix='_left', rsuffix='_right')\n",
    "# cell_merge"
   ]
  },
  {
   "cell_type": "code",
   "execution_count": 473,
   "metadata": {},
   "outputs": [],
   "source": [
    "cell_merge = pd.merge(re_abs_re_pd,sam,on='id1',how='left')\n",
    "cell_merge_all = pd.merge(cell_merge,sam,left_on='target',right_on='id1',how='left')"
   ]
  },
  {
   "cell_type": "code",
   "execution_count": 475,
   "metadata": {},
   "outputs": [
    {
     "data": {
      "text/html": [
       "<div>\n",
       "<style scoped>\n",
       "    .dataframe tbody tr th:only-of-type {\n",
       "        vertical-align: middle;\n",
       "    }\n",
       "\n",
       "    .dataframe tbody tr th {\n",
       "        vertical-align: top;\n",
       "    }\n",
       "\n",
       "    .dataframe thead th {\n",
       "        text-align: right;\n",
       "    }\n",
       "</style>\n",
       "<table border=\"1\" class=\"dataframe\">\n",
       "  <thead>\n",
       "    <tr style=\"text-align: right;\">\n",
       "      <th></th>\n",
       "      <th>id1_x</th>\n",
       "      <th>target</th>\n",
       "      <th>enb_id_x</th>\n",
       "      <th>cell_nm_x</th>\n",
       "      <th>cell_lat_x</th>\n",
       "      <th>cell_lng_x</th>\n",
       "      <th>id1_y</th>\n",
       "      <th>enb_id_y</th>\n",
       "      <th>cell_nm_y</th>\n",
       "      <th>cell_lat_y</th>\n",
       "      <th>cell_lng_y</th>\n",
       "    </tr>\n",
       "  </thead>\n",
       "  <tbody>\n",
       "    <tr>\n",
       "      <th>0</th>\n",
       "      <td>1</td>\n",
       "      <td>2</td>\n",
       "      <td>34288</td>\n",
       "      <td>해운대장산2LRRU_F5</td>\n",
       "      <td>35.200833</td>\n",
       "      <td>129.152500</td>\n",
       "      <td>2</td>\n",
       "      <td>34288</td>\n",
       "      <td>해운대장산2LRRUM</td>\n",
       "      <td>35.198923</td>\n",
       "      <td>129.150121</td>\n",
       "    </tr>\n",
       "    <tr>\n",
       "      <th>1</th>\n",
       "      <td>1</td>\n",
       "      <td>3</td>\n",
       "      <td>34288</td>\n",
       "      <td>해운대장산2LRRU_F5</td>\n",
       "      <td>35.200833</td>\n",
       "      <td>129.152500</td>\n",
       "      <td>3</td>\n",
       "      <td>34288</td>\n",
       "      <td>해운대장산2LRRU</td>\n",
       "      <td>35.198923</td>\n",
       "      <td>129.150121</td>\n",
       "    </tr>\n",
       "    <tr>\n",
       "      <th>2</th>\n",
       "      <td>1</td>\n",
       "      <td>7</td>\n",
       "      <td>34288</td>\n",
       "      <td>해운대장산2LRRU_F5</td>\n",
       "      <td>35.200833</td>\n",
       "      <td>129.152500</td>\n",
       "      <td>7</td>\n",
       "      <td>34288</td>\n",
       "      <td>해운대장산4LRRUM</td>\n",
       "      <td>35.201398</td>\n",
       "      <td>129.167509</td>\n",
       "    </tr>\n",
       "    <tr>\n",
       "      <th>3</th>\n",
       "      <td>1</td>\n",
       "      <td>78</td>\n",
       "      <td>34288</td>\n",
       "      <td>해운대장산2LRRU_F5</td>\n",
       "      <td>35.200833</td>\n",
       "      <td>129.152500</td>\n",
       "      <td>78</td>\n",
       "      <td>41418</td>\n",
       "      <td>강서죽동그린상사LRRU_F2</td>\n",
       "      <td>35.200138</td>\n",
       "      <td>128.891667</td>\n",
       "    </tr>\n",
       "    <tr>\n",
       "      <th>4</th>\n",
       "      <td>2</td>\n",
       "      <td>1</td>\n",
       "      <td>34288</td>\n",
       "      <td>해운대장산2LRRUM</td>\n",
       "      <td>35.198923</td>\n",
       "      <td>129.150121</td>\n",
       "      <td>1</td>\n",
       "      <td>34288</td>\n",
       "      <td>해운대장산2LRRU_F5</td>\n",
       "      <td>35.200833</td>\n",
       "      <td>129.152500</td>\n",
       "    </tr>\n",
       "  </tbody>\n",
       "</table>\n",
       "</div>"
      ],
      "text/plain": [
       "   id1_x  target  enb_id_x      cell_nm_x  cell_lat_x  cell_lng_x  id1_y  \\\n",
       "0      1       2     34288  해운대장산2LRRU_F5   35.200833  129.152500      2   \n",
       "1      1       3     34288  해운대장산2LRRU_F5   35.200833  129.152500      3   \n",
       "2      1       7     34288  해운대장산2LRRU_F5   35.200833  129.152500      7   \n",
       "3      1      78     34288  해운대장산2LRRU_F5   35.200833  129.152500     78   \n",
       "4      2       1     34288    해운대장산2LRRUM   35.198923  129.150121      1   \n",
       "\n",
       "   enb_id_y        cell_nm_y  cell_lat_y  cell_lng_y  \n",
       "0     34288      해운대장산2LRRUM   35.198923  129.150121  \n",
       "1     34288       해운대장산2LRRU   35.198923  129.150121  \n",
       "2     34288      해운대장산4LRRUM   35.201398  129.167509  \n",
       "3     41418  강서죽동그린상사LRRU_F2   35.200138  128.891667  \n",
       "4     34288    해운대장산2LRRU_F5   35.200833  129.152500  "
      ]
     },
     "execution_count": 475,
     "metadata": {},
     "output_type": "execute_result"
    }
   ],
   "source": [
    "cell_merge_all.head()"
   ]
  },
  {
   "cell_type": "markdown",
   "metadata": {},
   "source": [
    "## distance 로 구하기"
   ]
  },
  {
   "cell_type": "code",
   "execution_count": 506,
   "metadata": {},
   "outputs": [],
   "source": [
    "sam_dis=pd.read_excel('gn\\sample.xlsx')"
   ]
  },
  {
   "cell_type": "code",
   "execution_count": 507,
   "metadata": {
    "scrolled": true
   },
   "outputs": [],
   "source": [
    "sam_dis.columns.values[0]='id1'\n",
    "sam_dis.inplace=True"
   ]
  },
  {
   "cell_type": "code",
   "execution_count": 508,
   "metadata": {},
   "outputs": [],
   "source": [
    "sam_dis.reset_index(inplace=True)"
   ]
  },
  {
   "cell_type": "code",
   "execution_count": 509,
   "metadata": {},
   "outputs": [],
   "source": [
    "sam_dis=sam_dis[['id1','enb_cell','cell_nm','cell_lat','cell_lng']]"
   ]
  },
  {
   "cell_type": "code",
   "execution_count": 511,
   "metadata": {},
   "outputs": [],
   "source": [
    "t_lat=np.array(sam_dis['cell_lat'])\n",
    "t_lon=np.array(sam_dis['cell_lng'])"
   ]
  },
  {
   "cell_type": "code",
   "execution_count": 512,
   "metadata": {},
   "outputs": [
    {
     "data": {
      "text/html": [
       "<div>\n",
       "<style scoped>\n",
       "    .dataframe tbody tr th:only-of-type {\n",
       "        vertical-align: middle;\n",
       "    }\n",
       "\n",
       "    .dataframe tbody tr th {\n",
       "        vertical-align: top;\n",
       "    }\n",
       "\n",
       "    .dataframe thead th {\n",
       "        text-align: right;\n",
       "    }\n",
       "</style>\n",
       "<table border=\"1\" class=\"dataframe\">\n",
       "  <thead>\n",
       "    <tr style=\"text-align: right;\">\n",
       "      <th></th>\n",
       "      <th>id1</th>\n",
       "      <th>enb_cell</th>\n",
       "      <th>cell_nm</th>\n",
       "      <th>cell_lat</th>\n",
       "      <th>cell_lng</th>\n",
       "    </tr>\n",
       "  </thead>\n",
       "  <tbody>\n",
       "    <tr>\n",
       "      <th>0</th>\n",
       "      <td>0</td>\n",
       "      <td>34288_2</td>\n",
       "      <td>haeundaejwadongL0_2</td>\n",
       "      <td>35.168056</td>\n",
       "      <td>129.179167</td>\n",
       "    </tr>\n",
       "    <tr>\n",
       "      <th>1</th>\n",
       "      <td>1</td>\n",
       "      <td>34288_1</td>\n",
       "      <td>해운대장산2LRRU_F5</td>\n",
       "      <td>35.200833</td>\n",
       "      <td>129.152500</td>\n",
       "    </tr>\n",
       "    <tr>\n",
       "      <th>2</th>\n",
       "      <td>2</td>\n",
       "      <td>34288_0</td>\n",
       "      <td>해운대장산2LRRUM</td>\n",
       "      <td>35.198923</td>\n",
       "      <td>129.150121</td>\n",
       "    </tr>\n",
       "    <tr>\n",
       "      <th>3</th>\n",
       "      <td>3</td>\n",
       "      <td>34288_3</td>\n",
       "      <td>해운대장산2LRRU</td>\n",
       "      <td>35.198923</td>\n",
       "      <td>129.150121</td>\n",
       "    </tr>\n",
       "    <tr>\n",
       "      <th>4</th>\n",
       "      <td>4</td>\n",
       "      <td>34288_6</td>\n",
       "      <td>haeundaejwadongL0_6</td>\n",
       "      <td>35.168056</td>\n",
       "      <td>129.179167</td>\n",
       "    </tr>\n",
       "  </tbody>\n",
       "</table>\n",
       "</div>"
      ],
      "text/plain": [
       "   id1 enb_cell              cell_nm   cell_lat    cell_lng\n",
       "0    0  34288_2  haeundaejwadongL0_2  35.168056  129.179167\n",
       "1    1  34288_1        해운대장산2LRRU_F5  35.200833  129.152500\n",
       "2    2  34288_0          해운대장산2LRRUM  35.198923  129.150121\n",
       "3    3  34288_3           해운대장산2LRRU  35.198923  129.150121\n",
       "4    4  34288_6  haeundaejwadongL0_6  35.168056  129.179167"
      ]
     },
     "execution_count": 512,
     "metadata": {},
     "output_type": "execute_result"
    }
   ],
   "source": [
    "sam_dis.head()"
   ]
  },
  {
   "cell_type": "code",
   "execution_count": 513,
   "metadata": {},
   "outputs": [
    {
     "data": {
      "text/plain": [
       "102"
      ]
     },
     "execution_count": 513,
     "metadata": {},
     "output_type": "execute_result"
    }
   ],
   "source": [
    "len(t_lat)"
   ]
  },
  {
   "cell_type": "code",
   "execution_count": 514,
   "metadata": {},
   "outputs": [],
   "source": [
    "t_lat1=t_lat.reshape(102,1)"
   ]
  },
  {
   "cell_type": "code",
   "execution_count": 515,
   "metadata": {},
   "outputs": [],
   "source": [
    "t_lat2=t_lat.reshape(1,102)"
   ]
  },
  {
   "cell_type": "code",
   "execution_count": 516,
   "metadata": {},
   "outputs": [],
   "source": [
    "d_lat=np.radians(t_lat2)-np.radians(t_lat1)"
   ]
  },
  {
   "cell_type": "code",
   "execution_count": 517,
   "metadata": {},
   "outputs": [],
   "source": [
    "t_lon1=t_lon.reshape(102,1)\n",
    "t_lon2=t_lon.reshape(1,102)"
   ]
  },
  {
   "cell_type": "code",
   "execution_count": 518,
   "metadata": {},
   "outputs": [],
   "source": [
    "d_lon=np.radians(t_lon2)-np.radians(t_lon1)"
   ]
  },
  {
   "cell_type": "code",
   "execution_count": 519,
   "metadata": {},
   "outputs": [],
   "source": [
    "a=np.sin(d_lat/2)**2+np.cos(t_lat1)*np.cos(t_lat2)*np.sin(d_lon/2)**2"
   ]
  },
  {
   "cell_type": "code",
   "execution_count": 520,
   "metadata": {},
   "outputs": [],
   "source": [
    "c=2*np.arcsin(np.sqrt(a))\n"
   ]
  },
  {
   "cell_type": "code",
   "execution_count": 521,
   "metadata": {},
   "outputs": [
    {
     "data": {
      "text/plain": [
       "array([[0.00000000e+00, 6.85040717e-04, 6.77460182e-04, ...,\n",
       "        1.06770427e-03, 1.06770427e-03, 1.06444566e-03],\n",
       "       [6.85040717e-04, 0.00000000e+00, 4.70882893e-05, ...,\n",
       "        4.70833731e-04, 4.70833731e-04, 4.66026420e-04],\n",
       "       [6.77460182e-04, 4.70882893e-05, 0.00000000e+00, ...,\n",
       "        5.11005421e-04, 5.11005421e-04, 5.06093584e-04],\n",
       "       ...,\n",
       "       [1.06770427e-03, 4.70833731e-04, 5.11005421e-04, ...,\n",
       "        0.00000000e+00, 0.00000000e+00, 5.28361524e-06],\n",
       "       [1.06770427e-03, 4.70833731e-04, 5.11005421e-04, ...,\n",
       "        0.00000000e+00, 0.00000000e+00, 5.28361524e-06],\n",
       "       [1.06444566e-03, 4.66026420e-04, 5.06093584e-04, ...,\n",
       "        5.28361524e-06, 5.28361524e-06, 0.00000000e+00]])"
      ]
     },
     "execution_count": 521,
     "metadata": {},
     "output_type": "execute_result"
    }
   ],
   "source": [
    "c"
   ]
  },
  {
   "cell_type": "code",
   "execution_count": null,
   "metadata": {},
   "outputs": [],
   "source": [
    "km=6371*c"
   ]
  },
  {
   "cell_type": "code",
   "execution_count": 523,
   "metadata": {},
   "outputs": [
    {
     "data": {
      "text/plain": [
       "array([[0.        , 4.36439441, 4.31609882, ..., 6.80234392, 6.80234392,\n",
       "        6.78158329],\n",
       "       [4.36439441, 0.        , 0.29999949, ..., 2.9996817 , 2.9996817 ,\n",
       "        2.96905432],\n",
       "       [4.31609882, 0.29999949, 0.        , ..., 3.25561554, 3.25561554,\n",
       "        3.22432222],\n",
       "       ...,\n",
       "       [6.80234392, 2.9996817 , 3.25561554, ..., 0.        , 0.        ,\n",
       "        0.03366191],\n",
       "       [6.80234392, 2.9996817 , 3.25561554, ..., 0.        , 0.        ,\n",
       "        0.03366191],\n",
       "       [6.78158329, 2.96905432, 3.22432222, ..., 0.03366191, 0.03366191,\n",
       "        0.        ]])"
      ]
     },
     "execution_count": 523,
     "metadata": {},
     "output_type": "execute_result"
    }
   ],
   "source": [
    "km"
   ]
  },
  {
   "cell_type": "code",
   "execution_count": 524,
   "metadata": {},
   "outputs": [
    {
     "data": {
      "text/html": [
       "<div>\n",
       "<style scoped>\n",
       "    .dataframe tbody tr th:only-of-type {\n",
       "        vertical-align: middle;\n",
       "    }\n",
       "\n",
       "    .dataframe tbody tr th {\n",
       "        vertical-align: top;\n",
       "    }\n",
       "\n",
       "    .dataframe thead th {\n",
       "        text-align: right;\n",
       "    }\n",
       "</style>\n",
       "<table border=\"1\" class=\"dataframe\">\n",
       "  <thead>\n",
       "    <tr style=\"text-align: right;\">\n",
       "      <th></th>\n",
       "      <th>0</th>\n",
       "      <th>1</th>\n",
       "      <th>2</th>\n",
       "      <th>3</th>\n",
       "      <th>4</th>\n",
       "      <th>5</th>\n",
       "      <th>6</th>\n",
       "      <th>7</th>\n",
       "      <th>8</th>\n",
       "      <th>9</th>\n",
       "      <th>...</th>\n",
       "      <th>92</th>\n",
       "      <th>93</th>\n",
       "      <th>94</th>\n",
       "      <th>95</th>\n",
       "      <th>96</th>\n",
       "      <th>97</th>\n",
       "      <th>98</th>\n",
       "      <th>99</th>\n",
       "      <th>100</th>\n",
       "      <th>101</th>\n",
       "    </tr>\n",
       "  </thead>\n",
       "  <tbody>\n",
       "    <tr>\n",
       "      <th>0</th>\n",
       "      <td>0.000000</td>\n",
       "      <td>4.364394</td>\n",
       "      <td>4.316099</td>\n",
       "      <td>4.316099</td>\n",
       "      <td>0.000000</td>\n",
       "      <td>4.451568</td>\n",
       "      <td>4.515051</td>\n",
       "      <td>3.853164</td>\n",
       "      <td>1.991469</td>\n",
       "      <td>2.813556</td>\n",
       "      <td>...</td>\n",
       "      <td>38.535655</td>\n",
       "      <td>36.887877</td>\n",
       "      <td>36.887877</td>\n",
       "      <td>37.663424</td>\n",
       "      <td>37.663424</td>\n",
       "      <td>6.276808</td>\n",
       "      <td>6.276808</td>\n",
       "      <td>6.802344</td>\n",
       "      <td>6.802344</td>\n",
       "      <td>6.781583</td>\n",
       "    </tr>\n",
       "    <tr>\n",
       "      <th>1</th>\n",
       "      <td>4.364394</td>\n",
       "      <td>0.000000</td>\n",
       "      <td>0.299999</td>\n",
       "      <td>0.299999</td>\n",
       "      <td>4.364394</td>\n",
       "      <td>1.068839</td>\n",
       "      <td>0.875468</td>\n",
       "      <td>1.336557</td>\n",
       "      <td>2.374271</td>\n",
       "      <td>1.607304</td>\n",
       "      <td>...</td>\n",
       "      <td>38.129412</td>\n",
       "      <td>36.010161</td>\n",
       "      <td>36.010161</td>\n",
       "      <td>36.667855</td>\n",
       "      <td>36.667855</td>\n",
       "      <td>2.162130</td>\n",
       "      <td>2.162130</td>\n",
       "      <td>2.999682</td>\n",
       "      <td>2.999682</td>\n",
       "      <td>2.969054</td>\n",
       "    </tr>\n",
       "    <tr>\n",
       "      <th>2</th>\n",
       "      <td>4.316099</td>\n",
       "      <td>0.299999</td>\n",
       "      <td>0.000000</td>\n",
       "      <td>0.000000</td>\n",
       "      <td>4.316099</td>\n",
       "      <td>1.362342</td>\n",
       "      <td>1.173836</td>\n",
       "      <td>1.572100</td>\n",
       "      <td>2.327956</td>\n",
       "      <td>1.639873</td>\n",
       "      <td>...</td>\n",
       "      <td>37.838735</td>\n",
       "      <td>35.727954</td>\n",
       "      <td>35.727954</td>\n",
       "      <td>36.388560</td>\n",
       "      <td>36.388560</td>\n",
       "      <td>2.383858</td>\n",
       "      <td>2.383858</td>\n",
       "      <td>3.255616</td>\n",
       "      <td>3.255616</td>\n",
       "      <td>3.224322</td>\n",
       "    </tr>\n",
       "    <tr>\n",
       "      <th>3</th>\n",
       "      <td>4.316099</td>\n",
       "      <td>0.299999</td>\n",
       "      <td>0.000000</td>\n",
       "      <td>0.000000</td>\n",
       "      <td>4.316099</td>\n",
       "      <td>1.362342</td>\n",
       "      <td>1.173836</td>\n",
       "      <td>1.572100</td>\n",
       "      <td>2.327956</td>\n",
       "      <td>1.639873</td>\n",
       "      <td>...</td>\n",
       "      <td>37.838735</td>\n",
       "      <td>35.727954</td>\n",
       "      <td>35.727954</td>\n",
       "      <td>36.388560</td>\n",
       "      <td>36.388560</td>\n",
       "      <td>2.383858</td>\n",
       "      <td>2.383858</td>\n",
       "      <td>3.255616</td>\n",
       "      <td>3.255616</td>\n",
       "      <td>3.224322</td>\n",
       "    </tr>\n",
       "    <tr>\n",
       "      <th>4</th>\n",
       "      <td>0.000000</td>\n",
       "      <td>4.364394</td>\n",
       "      <td>4.316099</td>\n",
       "      <td>4.316099</td>\n",
       "      <td>0.000000</td>\n",
       "      <td>4.451568</td>\n",
       "      <td>4.515051</td>\n",
       "      <td>3.853164</td>\n",
       "      <td>1.991469</td>\n",
       "      <td>2.813556</td>\n",
       "      <td>...</td>\n",
       "      <td>38.535655</td>\n",
       "      <td>36.887877</td>\n",
       "      <td>36.887877</td>\n",
       "      <td>37.663424</td>\n",
       "      <td>37.663424</td>\n",
       "      <td>6.276808</td>\n",
       "      <td>6.276808</td>\n",
       "      <td>6.802344</td>\n",
       "      <td>6.802344</td>\n",
       "      <td>6.781583</td>\n",
       "    </tr>\n",
       "  </tbody>\n",
       "</table>\n",
       "<p>5 rows × 102 columns</p>\n",
       "</div>"
      ],
      "text/plain": [
       "        0         1         2         3         4         5         6    \\\n",
       "0  0.000000  4.364394  4.316099  4.316099  0.000000  4.451568  4.515051   \n",
       "1  4.364394  0.000000  0.299999  0.299999  4.364394  1.068839  0.875468   \n",
       "2  4.316099  0.299999  0.000000  0.000000  4.316099  1.362342  1.173836   \n",
       "3  4.316099  0.299999  0.000000  0.000000  4.316099  1.362342  1.173836   \n",
       "4  0.000000  4.364394  4.316099  4.316099  0.000000  4.451568  4.515051   \n",
       "\n",
       "        7         8         9    ...        92         93         94   \\\n",
       "0  3.853164  1.991469  2.813556  ...  38.535655  36.887877  36.887877   \n",
       "1  1.336557  2.374271  1.607304  ...  38.129412  36.010161  36.010161   \n",
       "2  1.572100  2.327956  1.639873  ...  37.838735  35.727954  35.727954   \n",
       "3  1.572100  2.327956  1.639873  ...  37.838735  35.727954  35.727954   \n",
       "4  3.853164  1.991469  2.813556  ...  38.535655  36.887877  36.887877   \n",
       "\n",
       "         95         96        97        98        99        100       101  \n",
       "0  37.663424  37.663424  6.276808  6.276808  6.802344  6.802344  6.781583  \n",
       "1  36.667855  36.667855  2.162130  2.162130  2.999682  2.999682  2.969054  \n",
       "2  36.388560  36.388560  2.383858  2.383858  3.255616  3.255616  3.224322  \n",
       "3  36.388560  36.388560  2.383858  2.383858  3.255616  3.255616  3.224322  \n",
       "4  37.663424  37.663424  6.276808  6.276808  6.802344  6.802344  6.781583  \n",
       "\n",
       "[5 rows x 102 columns]"
      ]
     },
     "execution_count": 524,
     "metadata": {},
     "output_type": "execute_result"
    }
   ],
   "source": [
    "dis_pd=pd.DataFrame(km)\n",
    "dis_pd.head()"
   ]
  },
  {
   "cell_type": "code",
   "execution_count": 532,
   "metadata": {},
   "outputs": [],
   "source": [
    "# dis_pd.columns.values[0]='id1'\n",
    "dis_pd.reset_index(inplace=True)"
   ]
  },
  {
   "cell_type": "code",
   "execution_count": 533,
   "metadata": {},
   "outputs": [
    {
     "data": {
      "text/html": [
       "<div>\n",
       "<style scoped>\n",
       "    .dataframe tbody tr th:only-of-type {\n",
       "        vertical-align: middle;\n",
       "    }\n",
       "\n",
       "    .dataframe tbody tr th {\n",
       "        vertical-align: top;\n",
       "    }\n",
       "\n",
       "    .dataframe thead th {\n",
       "        text-align: right;\n",
       "    }\n",
       "</style>\n",
       "<table border=\"1\" class=\"dataframe\">\n",
       "  <thead>\n",
       "    <tr style=\"text-align: right;\">\n",
       "      <th></th>\n",
       "      <th>index</th>\n",
       "      <th>0</th>\n",
       "      <th>1</th>\n",
       "      <th>2</th>\n",
       "      <th>3</th>\n",
       "      <th>4</th>\n",
       "      <th>5</th>\n",
       "      <th>6</th>\n",
       "      <th>7</th>\n",
       "      <th>8</th>\n",
       "      <th>...</th>\n",
       "      <th>92</th>\n",
       "      <th>93</th>\n",
       "      <th>94</th>\n",
       "      <th>95</th>\n",
       "      <th>96</th>\n",
       "      <th>97</th>\n",
       "      <th>98</th>\n",
       "      <th>99</th>\n",
       "      <th>100</th>\n",
       "      <th>101</th>\n",
       "    </tr>\n",
       "  </thead>\n",
       "  <tbody>\n",
       "    <tr>\n",
       "      <th>0</th>\n",
       "      <td>0</td>\n",
       "      <td>0.000000</td>\n",
       "      <td>4.364394</td>\n",
       "      <td>4.316099</td>\n",
       "      <td>4.316099</td>\n",
       "      <td>0.000000</td>\n",
       "      <td>4.451568</td>\n",
       "      <td>4.515051</td>\n",
       "      <td>3.853164</td>\n",
       "      <td>1.991469</td>\n",
       "      <td>...</td>\n",
       "      <td>38.535655</td>\n",
       "      <td>36.887877</td>\n",
       "      <td>36.887877</td>\n",
       "      <td>37.663424</td>\n",
       "      <td>37.663424</td>\n",
       "      <td>6.276808</td>\n",
       "      <td>6.276808</td>\n",
       "      <td>6.802344</td>\n",
       "      <td>6.802344</td>\n",
       "      <td>6.781583</td>\n",
       "    </tr>\n",
       "    <tr>\n",
       "      <th>1</th>\n",
       "      <td>1</td>\n",
       "      <td>4.364394</td>\n",
       "      <td>0.000000</td>\n",
       "      <td>0.299999</td>\n",
       "      <td>0.299999</td>\n",
       "      <td>4.364394</td>\n",
       "      <td>1.068839</td>\n",
       "      <td>0.875468</td>\n",
       "      <td>1.336557</td>\n",
       "      <td>2.374271</td>\n",
       "      <td>...</td>\n",
       "      <td>38.129412</td>\n",
       "      <td>36.010161</td>\n",
       "      <td>36.010161</td>\n",
       "      <td>36.667855</td>\n",
       "      <td>36.667855</td>\n",
       "      <td>2.162130</td>\n",
       "      <td>2.162130</td>\n",
       "      <td>2.999682</td>\n",
       "      <td>2.999682</td>\n",
       "      <td>2.969054</td>\n",
       "    </tr>\n",
       "    <tr>\n",
       "      <th>2</th>\n",
       "      <td>2</td>\n",
       "      <td>4.316099</td>\n",
       "      <td>0.299999</td>\n",
       "      <td>0.000000</td>\n",
       "      <td>0.000000</td>\n",
       "      <td>4.316099</td>\n",
       "      <td>1.362342</td>\n",
       "      <td>1.173836</td>\n",
       "      <td>1.572100</td>\n",
       "      <td>2.327956</td>\n",
       "      <td>...</td>\n",
       "      <td>37.838735</td>\n",
       "      <td>35.727954</td>\n",
       "      <td>35.727954</td>\n",
       "      <td>36.388560</td>\n",
       "      <td>36.388560</td>\n",
       "      <td>2.383858</td>\n",
       "      <td>2.383858</td>\n",
       "      <td>3.255616</td>\n",
       "      <td>3.255616</td>\n",
       "      <td>3.224322</td>\n",
       "    </tr>\n",
       "    <tr>\n",
       "      <th>3</th>\n",
       "      <td>3</td>\n",
       "      <td>4.316099</td>\n",
       "      <td>0.299999</td>\n",
       "      <td>0.000000</td>\n",
       "      <td>0.000000</td>\n",
       "      <td>4.316099</td>\n",
       "      <td>1.362342</td>\n",
       "      <td>1.173836</td>\n",
       "      <td>1.572100</td>\n",
       "      <td>2.327956</td>\n",
       "      <td>...</td>\n",
       "      <td>37.838735</td>\n",
       "      <td>35.727954</td>\n",
       "      <td>35.727954</td>\n",
       "      <td>36.388560</td>\n",
       "      <td>36.388560</td>\n",
       "      <td>2.383858</td>\n",
       "      <td>2.383858</td>\n",
       "      <td>3.255616</td>\n",
       "      <td>3.255616</td>\n",
       "      <td>3.224322</td>\n",
       "    </tr>\n",
       "    <tr>\n",
       "      <th>4</th>\n",
       "      <td>4</td>\n",
       "      <td>0.000000</td>\n",
       "      <td>4.364394</td>\n",
       "      <td>4.316099</td>\n",
       "      <td>4.316099</td>\n",
       "      <td>0.000000</td>\n",
       "      <td>4.451568</td>\n",
       "      <td>4.515051</td>\n",
       "      <td>3.853164</td>\n",
       "      <td>1.991469</td>\n",
       "      <td>...</td>\n",
       "      <td>38.535655</td>\n",
       "      <td>36.887877</td>\n",
       "      <td>36.887877</td>\n",
       "      <td>37.663424</td>\n",
       "      <td>37.663424</td>\n",
       "      <td>6.276808</td>\n",
       "      <td>6.276808</td>\n",
       "      <td>6.802344</td>\n",
       "      <td>6.802344</td>\n",
       "      <td>6.781583</td>\n",
       "    </tr>\n",
       "  </tbody>\n",
       "</table>\n",
       "<p>5 rows × 103 columns</p>\n",
       "</div>"
      ],
      "text/plain": [
       "   index         0         1         2         3         4         5  \\\n",
       "0      0  0.000000  4.364394  4.316099  4.316099  0.000000  4.451568   \n",
       "1      1  4.364394  0.000000  0.299999  0.299999  4.364394  1.068839   \n",
       "2      2  4.316099  0.299999  0.000000  0.000000  4.316099  1.362342   \n",
       "3      3  4.316099  0.299999  0.000000  0.000000  4.316099  1.362342   \n",
       "4      4  0.000000  4.364394  4.316099  4.316099  0.000000  4.451568   \n",
       "\n",
       "          6         7         8  ...         92         93         94  \\\n",
       "0  4.515051  3.853164  1.991469  ...  38.535655  36.887877  36.887877   \n",
       "1  0.875468  1.336557  2.374271  ...  38.129412  36.010161  36.010161   \n",
       "2  1.173836  1.572100  2.327956  ...  37.838735  35.727954  35.727954   \n",
       "3  1.173836  1.572100  2.327956  ...  37.838735  35.727954  35.727954   \n",
       "4  4.515051  3.853164  1.991469  ...  38.535655  36.887877  36.887877   \n",
       "\n",
       "          95         96        97        98        99       100       101  \n",
       "0  37.663424  37.663424  6.276808  6.276808  6.802344  6.802344  6.781583  \n",
       "1  36.667855  36.667855  2.162130  2.162130  2.999682  2.999682  2.969054  \n",
       "2  36.388560  36.388560  2.383858  2.383858  3.255616  3.255616  3.224322  \n",
       "3  36.388560  36.388560  2.383858  2.383858  3.255616  3.255616  3.224322  \n",
       "4  37.663424  37.663424  6.276808  6.276808  6.802344  6.802344  6.781583  \n",
       "\n",
       "[5 rows x 103 columns]"
      ]
     },
     "execution_count": 533,
     "metadata": {},
     "output_type": "execute_result"
    }
   ],
   "source": [
    "dis_pd.head()"
   ]
  },
  {
   "cell_type": "code",
   "execution_count": 608,
   "metadata": {},
   "outputs": [
    {
     "data": {
      "text/plain": [
       "array([[ 0,  1,  2,  3],\n",
       "       [ 4,  5,  6,  7],\n",
       "       [ 8,  9, 10, 11]])"
      ]
     },
     "execution_count": 608,
     "metadata": {},
     "output_type": "execute_result"
    }
   ],
   "source": [
    "x = np.arange(12).reshape((3, 4))\n",
    "x"
   ]
  },
  {
   "cell_type": "code",
   "execution_count": 610,
   "metadata": {},
   "outputs": [
    {
     "data": {
      "text/plain": [
       "array([0, 1, 2])"
      ]
     },
     "execution_count": 610,
     "metadata": {},
     "output_type": "execute_result"
    }
   ],
   "source": [
    "row_idx = np.array([0, 1, 2])\n",
    "row_idx"
   ]
  },
  {
   "cell_type": "code",
   "execution_count": 611,
   "metadata": {},
   "outputs": [
    {
     "data": {
      "text/plain": [
       "array([2, 1, 3])"
      ]
     },
     "execution_count": 611,
     "metadata": {},
     "output_type": "execute_result"
    }
   ],
   "source": [
    "col_idx = np.array([2, 1, 3])\n",
    "col_idx"
   ]
  },
  {
   "cell_type": "code",
   "execution_count": 616,
   "metadata": {},
   "outputs": [
    {
     "data": {
      "text/plain": [
       "array([4.31609882, 0.        , 0.        ])"
      ]
     },
     "execution_count": 616,
     "metadata": {},
     "output_type": "execute_result"
    }
   ],
   "source": [
    "km[row_idx, col_idx]"
   ]
  },
  {
   "cell_type": "code",
   "execution_count": 617,
   "metadata": {},
   "outputs": [
    {
     "data": {
      "text/plain": [
       "4.364394407284501"
      ]
     },
     "execution_count": 617,
     "metadata": {},
     "output_type": "execute_result"
    }
   ],
   "source": [
    "km[0,1]"
   ]
  },
  {
   "cell_type": "code",
   "execution_count": 624,
   "metadata": {},
   "outputs": [
    {
     "data": {
      "text/plain": [
       "array([ 25,  26,  27,  28,  29,  30,  31,  32,  33,  34,  35,  36,  37,\n",
       "        38,  39,  40,  41,  42,  43,  44,  45,  46,  47,  48,  49,  50,\n",
       "        51,  52,  53,  54,  55,  56,  57,  58,  59,  60,  61,  62,  63,\n",
       "        64,  65,  66,  67,  68,  69,  70,  71,  72,  73,  74,  75,  76,\n",
       "        77,  78,  79,  80,  81,  82,  83,  84,  85,  86,  87,  88,  89,\n",
       "        90,  91,  92,  93,  94,  95,  96,  97,  98,  99, 100, 101],\n",
       "      dtype=int64)"
      ]
     },
     "execution_count": 624,
     "metadata": {},
     "output_type": "execute_result"
    }
   ],
   "source": [
    "dis_pd[dis_pd[0]>5].index.values"
   ]
  },
  {
   "cell_type": "code",
   "execution_count": 629,
   "metadata": {},
   "outputs": [
    {
     "data": {
      "text/plain": [
       "4.364394407284501"
      ]
     },
     "execution_count": 629,
     "metadata": {},
     "output_type": "execute_result"
    }
   ],
   "source": [
    "dis_pd.loc[0,1]"
   ]
  },
  {
   "cell_type": "code",
   "execution_count": null,
   "metadata": {},
   "outputs": [],
   "source": []
  },
  {
   "cell_type": "code",
   "execution_count": 591,
   "metadata": {},
   "outputs": [
    {
     "data": {
      "text/plain": [
       "array([[ 4.31609882,  0.29999949,  0.        ,  0.        ,  4.31609882,\n",
       "         1.36234232,  1.17383636,  1.5721001 ,  2.32795636,  1.63987283,\n",
       "         4.31609882,  1.8766706 ,  4.31609882,  4.31609882,  4.31609882,\n",
       "         4.31609882,  4.31609882,  4.31609882,  4.31609882,  4.31609882,\n",
       "         4.491119  ,  4.31609882,  3.2541936 ,  4.31609882,  3.24990524,\n",
       "        22.21272772, 22.26124543, 22.85813341, 22.88435268, 22.25992564,\n",
       "        22.21272772, 22.229976  , 22.229976  , 22.22065761, 22.91126013,\n",
       "        22.91126013, 21.0420764 , 21.0420764 , 21.31310568, 21.31310568,\n",
       "        22.05029771, 21.56567736, 21.55284867, 21.68484648, 21.68484648,\n",
       "        24.93739269, 24.93739269, 24.93739269, 24.93739269, 24.93739269,\n",
       "        25.83592432, 24.93739269, 25.87816813, 25.87826102, 25.88704547,\n",
       "        24.93739269, 24.93739269, 25.49897815, 25.49897815, 26.28058076,\n",
       "        24.93739269, 26.28058076, 26.28058076, 26.62371761, 24.93737174,\n",
       "        24.93737174, 24.93737174, 25.06472837, 25.06472837, 25.57720188,\n",
       "        25.57720188, 25.8880038 , 25.77217419, 26.44832397, 26.44832397,\n",
       "        24.93739269, 24.93739269, 25.1219709 , 23.01705576, 22.61727596,\n",
       "        22.726578  , 21.9666174 , 21.9666174 , 16.08715292, 16.10688126,\n",
       "        16.08715292, 34.34215701, 34.28665088, 34.34215701, 33.57404397,\n",
       "        34.65005545, 34.65005545, 37.83873454, 35.7279536 , 35.7279536 ,\n",
       "        36.38855958, 36.38855958,  2.38385798,  2.38385798,  3.25561554,\n",
       "         3.25561554,  3.22432222],\n",
       "       [ 3.85316378,  1.33655695,  1.5721001 ,  1.5721001 ,  3.85316378,\n",
       "         0.64795584,  0.79981704,  0.        ,  2.07056563,  1.19921589,\n",
       "         3.85316378,  1.76438395,  3.85316378,  3.85316378,  3.85316378,\n",
       "         3.85316378,  3.85316378,  3.85316378,  3.85316378,  3.85316378,\n",
       "         4.51103867,  3.85316378,  3.18296995,  3.85316378,  3.17324703,\n",
       "        23.67659007, 23.72518907, 24.31673885, 24.34221259, 23.72382991,\n",
       "        23.67659007, 23.68088248, 23.68088248, 23.6722119 , 24.35838936,\n",
       "        24.35838936, 22.5379001 , 22.5379001 , 22.81784307, 22.81784307,\n",
       "        23.48763221, 23.0165047 , 23.00793132, 23.1290477 , 23.1290477 ,\n",
       "        26.33874401, 26.33874401, 26.33874401, 26.33874401, 26.33874401,\n",
       "        27.20340112, 26.33874401, 27.31958884, 27.31968273, 27.32898199,\n",
       "        26.33874401, 26.33874401, 26.93616278, 26.93616278, 27.62029648,\n",
       "        26.33874401, 27.62029648, 27.62029648, 27.93235313, 26.33872201,\n",
       "        26.33872201, 26.33872201, 26.54262701, 26.54262701, 27.05604155,\n",
       "        27.05604155, 27.36776979, 27.25241321, 27.89788576, 27.89788576,\n",
       "        26.33874401, 26.33874401, 26.55666516, 24.54284986, 24.15636303,\n",
       "        24.2575767 , 23.49105844, 23.49105844, 17.58523856, 17.60519939,\n",
       "        17.58523856, 35.88064936, 35.82521687, 35.88064936, 35.11352497,\n",
       "        36.17528658, 36.17528658, 39.30266912, 37.24646854, 37.24646854,\n",
       "        37.91866764, 37.91866764,  2.48257895,  2.48257895,  2.95103423,\n",
       "         2.95103423,  2.92965732],\n",
       "       [ 4.36439441,  0.        ,  0.29999949,  0.29999949,  4.36439441,\n",
       "         1.06883901,  0.87546834,  1.33655695,  2.37427081,  1.60730373,\n",
       "         4.36439441,  1.92880527,  4.36439441,  4.36439441,  4.36439441,\n",
       "         4.36439441,  4.36439441,  4.36439441,  4.36439441,  4.36439441,\n",
       "         4.62776156,  4.36439441,  3.35954086,  4.36439441,  3.35420088,\n",
       "        22.37681498, 22.42536645, 23.01990177, 23.04579817, 22.42402939,\n",
       "        22.37681498, 22.3884727 , 22.3884727 , 22.37942904, 23.0681498 ,\n",
       "        23.0681498 , 21.22115589, 21.22115589, 21.49670151, 21.49670151,\n",
       "        22.20315433, 21.72415394, 21.71314111, 21.84053758, 21.84053758,\n",
       "        25.07618445, 25.07618445, 25.07618445, 25.07618445, 25.07618445,\n",
       "        25.96243725, 25.07618445, 26.03257576, 26.03266906, 26.04166344,\n",
       "        25.07618445, 25.07618445, 25.65168286, 25.65168286, 26.39754805,\n",
       "        25.07618445, 26.39754805, 26.39754805, 26.73044415, 25.0761631 ,\n",
       "        25.0761631 , 25.0761631 , 25.23492084, 25.23492084, 25.74777715,\n",
       "        25.74777715, 26.05897341, 25.9433731 , 26.60605508, 26.60605508,\n",
       "        25.07618445, 25.07618445, 25.27368675, 23.21207121, 22.82067987,\n",
       "        22.9247801 , 22.16099367, 22.16099367, 16.26759871, 16.28744634,\n",
       "        16.26759871, 34.61917929, 34.56365389, 34.61917929, 33.85080418,\n",
       "        34.93077476, 34.93077476, 38.12941174, 36.01016138, 36.01016138,\n",
       "        36.66785511, 36.66785511,  2.16212975,  2.16212975,  2.9996817 ,\n",
       "         2.9996817 ,  2.96905432]])"
      ]
     },
     "execution_count": 591,
     "metadata": {},
     "output_type": "execute_result"
    }
   ],
   "source": [
    "idx=np.array([3,7,1])\n",
    "km[idx]"
   ]
  },
  {
   "cell_type": "code",
   "execution_count": 599,
   "metadata": {},
   "outputs": [],
   "source": [
    "zzz=np.random.randint(0,7,(3,5,2))"
   ]
  },
  {
   "cell_type": "code",
   "execution_count": 600,
   "metadata": {},
   "outputs": [
    {
     "data": {
      "text/plain": [
       "array([[[4, 5],\n",
       "        [4, 5],\n",
       "        [6, 4],\n",
       "        [5, 6],\n",
       "        [6, 6]],\n",
       "\n",
       "       [[1, 2],\n",
       "        [2, 5],\n",
       "        [4, 0],\n",
       "        [4, 0],\n",
       "        [4, 3]],\n",
       "\n",
       "       [[5, 1],\n",
       "        [2, 4],\n",
       "        [6, 5],\n",
       "        [2, 2],\n",
       "        [0, 3]]])"
      ]
     },
     "execution_count": 600,
     "metadata": {},
     "output_type": "execute_result"
    }
   ],
   "source": [
    "zzz"
   ]
  },
  {
   "cell_type": "code",
   "execution_count": 601,
   "metadata": {},
   "outputs": [
    {
     "data": {
      "text/plain": [
       "array([[1, 2],\n",
       "       [2, 5],\n",
       "       [4, 0],\n",
       "       [4, 0],\n",
       "       [4, 3]])"
      ]
     },
     "execution_count": 601,
     "metadata": {},
     "output_type": "execute_result"
    }
   ],
   "source": [
    "zzz[1]"
   ]
  },
  {
   "cell_type": "code",
   "execution_count": null,
   "metadata": {},
   "outputs": [],
   "source": []
  },
  {
   "cell_type": "code",
   "execution_count": 578,
   "metadata": {},
   "outputs": [],
   "source": [
    "name2 = ['Alice', 'Bob', 'Cathy', 'Doug']\n",
    "age = [25, 45, 37, 19]"
   ]
  },
  {
   "cell_type": "code",
   "execution_count": null,
   "metadata": {},
   "outputs": [],
   "source": []
  },
  {
   "cell_type": "code",
   "execution_count": null,
   "metadata": {},
   "outputs": [],
   "source": []
  },
  {
   "cell_type": "code",
   "execution_count": null,
   "metadata": {},
   "outputs": [],
   "source": []
  },
  {
   "cell_type": "code",
   "execution_count": 539,
   "metadata": {},
   "outputs": [],
   "source": [
    "name = ['Alice', 'Bob', 'Cathy', 'Doug']\n",
    "age = [25, 45, 37, 19]\n",
    "weight = [55.0, 85.5, 68.0, 61.5]"
   ]
  },
  {
   "cell_type": "code",
   "execution_count": 540,
   "metadata": {},
   "outputs": [
    {
     "data": {
      "text/plain": [
       "array([('', 0, 0.), ('', 0, 0.), ('', 0, 0.), ('', 0, 0.)],\n",
       "      dtype=[('name', '<U10'), ('age', '<i4'), ('weight', '<f8')])"
      ]
     },
     "execution_count": 540,
     "metadata": {},
     "output_type": "execute_result"
    }
   ],
   "source": [
    "data = np.zeros(4, dtype = {'names':('name', 'age', 'weight'),\n",
    "                        'formats':('U10', 'i4', 'f8')})\n",
    "\n",
    "data"
   ]
  },
  {
   "cell_type": "code",
   "execution_count": 541,
   "metadata": {},
   "outputs": [
    {
     "data": {
      "text/plain": [
       "array([('Alice', 25, 55. ), ('Bob', 45, 85.5), ('Cathy', 37, 68. ),\n",
       "       ('Doug', 19, 61.5)],\n",
       "      dtype=[('name', '<U10'), ('age', '<i4'), ('weight', '<f8')])"
      ]
     },
     "execution_count": 541,
     "metadata": {},
     "output_type": "execute_result"
    }
   ],
   "source": [
    "data['name'] = name\n",
    "data['age'] = age\n",
    "data['weight'] = weight\n",
    "\n",
    "data"
   ]
  },
  {
   "cell_type": "code",
   "execution_count": 542,
   "metadata": {},
   "outputs": [
    {
     "data": {
      "text/plain": [
       "array([25, 45, 37, 19])"
      ]
     },
     "execution_count": 542,
     "metadata": {},
     "output_type": "execute_result"
    }
   ],
   "source": [
    "np.array(data['age'])"
   ]
  },
  {
   "cell_type": "code",
   "execution_count": 543,
   "metadata": {},
   "outputs": [
    {
     "data": {
      "text/plain": [
       "array([25, 45, 37, 19])"
      ]
     },
     "execution_count": 543,
     "metadata": {},
     "output_type": "execute_result"
    }
   ],
   "source": [
    "data['age']"
   ]
  },
  {
   "cell_type": "code",
   "execution_count": 545,
   "metadata": {},
   "outputs": [
    {
     "data": {
      "text/plain": [
       "array([55. , 85.5, 68. , 61.5])"
      ]
     },
     "execution_count": 545,
     "metadata": {},
     "output_type": "execute_result"
    }
   ],
   "source": [
    "np.array(data['weight'])"
   ]
  },
  {
   "cell_type": "code",
   "execution_count": 562,
   "metadata": {},
   "outputs": [
    {
     "data": {
      "text/plain": [
       "array([[25, 45, 37, 19]])"
      ]
     },
     "execution_count": 562,
     "metadata": {},
     "output_type": "execute_result"
    }
   ],
   "source": [
    "data['age'].reshape(1,4)"
   ]
  },
  {
   "cell_type": "code",
   "execution_count": 553,
   "metadata": {},
   "outputs": [],
   "source": [
    "rt=data['weight'].reshape(4,1)"
   ]
  },
  {
   "cell_type": "code",
   "execution_count": 552,
   "metadata": {},
   "outputs": [
    {
     "data": {
      "text/plain": [
       "array([55. , 85.5, 68. , 61.5])"
      ]
     },
     "execution_count": 552,
     "metadata": {},
     "output_type": "execute_result"
    }
   ],
   "source": [
    "rt=data['weight']"
   ]
  },
  {
   "cell_type": "code",
   "execution_count": 554,
   "metadata": {},
   "outputs": [
    {
     "data": {
      "text/plain": [
       "array([[55. ],\n",
       "       [85.5],\n",
       "       [68. ],\n",
       "       [61.5]])"
      ]
     },
     "execution_count": 554,
     "metadata": {},
     "output_type": "execute_result"
    }
   ],
   "source": [
    "rt"
   ]
  },
  {
   "cell_type": "code",
   "execution_count": 557,
   "metadata": {},
   "outputs": [],
   "source": [
    "bb=data['age']*rt"
   ]
  },
  {
   "cell_type": "code",
   "execution_count": 581,
   "metadata": {},
   "outputs": [
    {
     "ename": "ValueError",
     "evalue": "entry not a 2- or 3- tuple",
     "output_type": "error",
     "traceback": [
      "\u001b[1;31m---------------------------------------------------------------------------\u001b[0m",
      "\u001b[1;31mValueError\u001b[0m                                Traceback (most recent call last)",
      "\u001b[1;32m<ipython-input-581-c2510eff1ca1>\u001b[0m in \u001b[0;36m<module>\u001b[1;34m()\u001b[0m\n\u001b[1;32m----> 1\u001b[1;33m \u001b[0mdata22\u001b[0m\u001b[1;33m=\u001b[0m\u001b[0mnp\u001b[0m\u001b[1;33m.\u001b[0m\u001b[0marray\u001b[0m\u001b[1;33m(\u001b[0m\u001b[0mbb\u001b[0m\u001b[1;33m,\u001b[0m\u001b[0mdtype\u001b[0m\u001b[1;33m=\u001b[0m\u001b[1;33m{\u001b[0m\u001b[1;34m'names'\u001b[0m\u001b[1;33m:\u001b[0m\u001b[1;33m(\u001b[0m\u001b[1;34m'name2'\u001b[0m\u001b[1;33m)\u001b[0m\u001b[1;33m}\u001b[0m\u001b[1;33m)\u001b[0m\u001b[1;33m\u001b[0m\u001b[0m\n\u001b[0m",
      "\u001b[1;32mC:\\ProgramData\\Anaconda3\\lib\\site-packages\\numpy\\core\\_internal.py\u001b[0m in \u001b[0;36m_usefields\u001b[1;34m(adict, align)\u001b[0m\n\u001b[0;32m     60\u001b[0m         \u001b[0mnames\u001b[0m \u001b[1;33m=\u001b[0m \u001b[1;32mNone\u001b[0m\u001b[1;33m\u001b[0m\u001b[0m\n\u001b[0;32m     61\u001b[0m     \u001b[1;32mif\u001b[0m \u001b[0mnames\u001b[0m \u001b[1;32mis\u001b[0m \u001b[1;32mNone\u001b[0m\u001b[1;33m:\u001b[0m\u001b[1;33m\u001b[0m\u001b[0m\n\u001b[1;32m---> 62\u001b[1;33m         \u001b[0mnames\u001b[0m\u001b[1;33m,\u001b[0m \u001b[0mformats\u001b[0m\u001b[1;33m,\u001b[0m \u001b[0moffsets\u001b[0m\u001b[1;33m,\u001b[0m \u001b[0mtitles\u001b[0m \u001b[1;33m=\u001b[0m \u001b[0m_makenames_list\u001b[0m\u001b[1;33m(\u001b[0m\u001b[0madict\u001b[0m\u001b[1;33m,\u001b[0m \u001b[0malign\u001b[0m\u001b[1;33m)\u001b[0m\u001b[1;33m\u001b[0m\u001b[0m\n\u001b[0m\u001b[0;32m     63\u001b[0m     \u001b[1;32melse\u001b[0m\u001b[1;33m:\u001b[0m\u001b[1;33m\u001b[0m\u001b[0m\n\u001b[0;32m     64\u001b[0m         \u001b[0mformats\u001b[0m \u001b[1;33m=\u001b[0m \u001b[1;33m[\u001b[0m\u001b[1;33m]\u001b[0m\u001b[1;33m\u001b[0m\u001b[0m\n",
      "\u001b[1;32mC:\\ProgramData\\Anaconda3\\lib\\site-packages\\numpy\\core\\_internal.py\u001b[0m in \u001b[0;36m_makenames_list\u001b[1;34m(adict, align)\u001b[0m\n\u001b[0;32m     30\u001b[0m         \u001b[0mn\u001b[0m \u001b[1;33m=\u001b[0m \u001b[0mlen\u001b[0m\u001b[1;33m(\u001b[0m\u001b[0mobj\u001b[0m\u001b[1;33m)\u001b[0m\u001b[1;33m\u001b[0m\u001b[0m\n\u001b[0;32m     31\u001b[0m         \u001b[1;32mif\u001b[0m \u001b[1;32mnot\u001b[0m \u001b[0misinstance\u001b[0m\u001b[1;33m(\u001b[0m\u001b[0mobj\u001b[0m\u001b[1;33m,\u001b[0m \u001b[0mtuple\u001b[0m\u001b[1;33m)\u001b[0m \u001b[1;32mor\u001b[0m \u001b[0mn\u001b[0m \u001b[1;32mnot\u001b[0m \u001b[1;32min\u001b[0m \u001b[1;33m[\u001b[0m\u001b[1;36m2\u001b[0m\u001b[1;33m,\u001b[0m \u001b[1;36m3\u001b[0m\u001b[1;33m]\u001b[0m\u001b[1;33m:\u001b[0m\u001b[1;33m\u001b[0m\u001b[0m\n\u001b[1;32m---> 32\u001b[1;33m             \u001b[1;32mraise\u001b[0m \u001b[0mValueError\u001b[0m\u001b[1;33m(\u001b[0m\u001b[1;34m\"entry not a 2- or 3- tuple\"\u001b[0m\u001b[1;33m)\u001b[0m\u001b[1;33m\u001b[0m\u001b[0m\n\u001b[0m\u001b[0;32m     33\u001b[0m         \u001b[1;32mif\u001b[0m \u001b[1;33m(\u001b[0m\u001b[0mn\u001b[0m \u001b[1;33m>\u001b[0m \u001b[1;36m2\u001b[0m\u001b[1;33m)\u001b[0m \u001b[1;32mand\u001b[0m \u001b[1;33m(\u001b[0m\u001b[0mobj\u001b[0m\u001b[1;33m[\u001b[0m\u001b[1;36m2\u001b[0m\u001b[1;33m]\u001b[0m \u001b[1;33m==\u001b[0m \u001b[0mfname\u001b[0m\u001b[1;33m)\u001b[0m\u001b[1;33m:\u001b[0m\u001b[1;33m\u001b[0m\u001b[0m\n\u001b[0;32m     34\u001b[0m             \u001b[1;32mcontinue\u001b[0m\u001b[1;33m\u001b[0m\u001b[0m\n",
      "\u001b[1;31mValueError\u001b[0m: entry not a 2- or 3- tuple"
     ]
    }
   ],
   "source": [
    "data22=np.array(bb,dtype={'names':('name2')})"
   ]
  },
  {
   "cell_type": "code",
   "execution_count": 571,
   "metadata": {},
   "outputs": [
    {
     "ename": "ValueError",
     "evalue": "invalid literal for int() with base 10: 'age'",
     "output_type": "error",
     "traceback": [
      "\u001b[1;31m---------------------------------------------------------------------------\u001b[0m",
      "\u001b[1;31mValueError\u001b[0m                                Traceback (most recent call last)",
      "\u001b[1;32m<ipython-input-571-0ee40cd9660c>\u001b[0m in \u001b[0;36m<module>\u001b[1;34m()\u001b[0m\n\u001b[0;32m      1\u001b[0m data2=np.zeros(4,dtype={'ons':('name','age','weight'),\n\u001b[1;32m----> 2\u001b[1;33m                            'formats':('U10', 'i4', 'f8')})\n\u001b[0m",
      "\u001b[1;32mC:\\ProgramData\\Anaconda3\\lib\\site-packages\\numpy\\core\\_internal.py\u001b[0m in \u001b[0;36m_usefields\u001b[1;34m(adict, align)\u001b[0m\n\u001b[0;32m     60\u001b[0m         \u001b[0mnames\u001b[0m \u001b[1;33m=\u001b[0m \u001b[1;32mNone\u001b[0m\u001b[1;33m\u001b[0m\u001b[0m\n\u001b[0;32m     61\u001b[0m     \u001b[1;32mif\u001b[0m \u001b[0mnames\u001b[0m \u001b[1;32mis\u001b[0m \u001b[1;32mNone\u001b[0m\u001b[1;33m:\u001b[0m\u001b[1;33m\u001b[0m\u001b[0m\n\u001b[1;32m---> 62\u001b[1;33m         \u001b[0mnames\u001b[0m\u001b[1;33m,\u001b[0m \u001b[0mformats\u001b[0m\u001b[1;33m,\u001b[0m \u001b[0moffsets\u001b[0m\u001b[1;33m,\u001b[0m \u001b[0mtitles\u001b[0m \u001b[1;33m=\u001b[0m \u001b[0m_makenames_list\u001b[0m\u001b[1;33m(\u001b[0m\u001b[0madict\u001b[0m\u001b[1;33m,\u001b[0m \u001b[0malign\u001b[0m\u001b[1;33m)\u001b[0m\u001b[1;33m\u001b[0m\u001b[0m\n\u001b[0m\u001b[0;32m     63\u001b[0m     \u001b[1;32melse\u001b[0m\u001b[1;33m:\u001b[0m\u001b[1;33m\u001b[0m\u001b[0m\n\u001b[0;32m     64\u001b[0m         \u001b[0mformats\u001b[0m \u001b[1;33m=\u001b[0m \u001b[1;33m[\u001b[0m\u001b[1;33m]\u001b[0m\u001b[1;33m\u001b[0m\u001b[0m\n",
      "\u001b[1;32mC:\\ProgramData\\Anaconda3\\lib\\site-packages\\numpy\\core\\_internal.py\u001b[0m in \u001b[0;36m_makenames_list\u001b[1;34m(adict, align)\u001b[0m\n\u001b[0;32m     33\u001b[0m         \u001b[1;32mif\u001b[0m \u001b[1;33m(\u001b[0m\u001b[0mn\u001b[0m \u001b[1;33m>\u001b[0m \u001b[1;36m2\u001b[0m\u001b[1;33m)\u001b[0m \u001b[1;32mand\u001b[0m \u001b[1;33m(\u001b[0m\u001b[0mobj\u001b[0m\u001b[1;33m[\u001b[0m\u001b[1;36m2\u001b[0m\u001b[1;33m]\u001b[0m \u001b[1;33m==\u001b[0m \u001b[0mfname\u001b[0m\u001b[1;33m)\u001b[0m\u001b[1;33m:\u001b[0m\u001b[1;33m\u001b[0m\u001b[0m\n\u001b[0;32m     34\u001b[0m             \u001b[1;32mcontinue\u001b[0m\u001b[1;33m\u001b[0m\u001b[0m\n\u001b[1;32m---> 35\u001b[1;33m         \u001b[0mnum\u001b[0m \u001b[1;33m=\u001b[0m \u001b[0mint\u001b[0m\u001b[1;33m(\u001b[0m\u001b[0mobj\u001b[0m\u001b[1;33m[\u001b[0m\u001b[1;36m1\u001b[0m\u001b[1;33m]\u001b[0m\u001b[1;33m)\u001b[0m\u001b[1;33m\u001b[0m\u001b[0m\n\u001b[0m\u001b[0;32m     36\u001b[0m         \u001b[1;32mif\u001b[0m \u001b[1;33m(\u001b[0m\u001b[0mnum\u001b[0m \u001b[1;33m<\u001b[0m \u001b[1;36m0\u001b[0m\u001b[1;33m)\u001b[0m\u001b[1;33m:\u001b[0m\u001b[1;33m\u001b[0m\u001b[0m\n\u001b[0;32m     37\u001b[0m             \u001b[1;32mraise\u001b[0m \u001b[0mValueError\u001b[0m\u001b[1;33m(\u001b[0m\u001b[1;34m\"invalid offset.\"\u001b[0m\u001b[1;33m)\u001b[0m\u001b[1;33m\u001b[0m\u001b[0m\n",
      "\u001b[1;31mValueError\u001b[0m: invalid literal for int() with base 10: 'age'"
     ]
    }
   ],
   "source": [
    "data2=np.zeros(4,dtype={'ons':('name','age','weight'),\n",
    "                           'formats':('U10', 'i4', 'f8')})"
   ]
  },
  {
   "cell_type": "code",
   "execution_count": 567,
   "metadata": {},
   "outputs": [
    {
     "data": {
      "text/plain": [
       "array([[0, 0, 0, 0],\n",
       "       [0, 0, 0, 0],\n",
       "       [0, 0, 0, 0],\n",
       "       [0, 0, 0, 0]])"
      ]
     },
     "execution_count": 567,
     "metadata": {},
     "output_type": "execute_result"
    }
   ],
   "source": [
    "data2"
   ]
  },
  {
   "cell_type": "code",
   "execution_count": null,
   "metadata": {},
   "outputs": [],
   "source": []
  },
  {
   "cell_type": "code",
   "execution_count": null,
   "metadata": {},
   "outputs": [],
   "source": []
  },
  {
   "cell_type": "code",
   "execution_count": null,
   "metadata": {},
   "outputs": [],
   "source": []
  },
  {
   "cell_type": "code",
   "execution_count": null,
   "metadata": {},
   "outputs": [],
   "source": []
  },
  {
   "cell_type": "code",
   "execution_count": null,
   "metadata": {},
   "outputs": [],
   "source": []
  },
  {
   "cell_type": "code",
   "execution_count": null,
   "metadata": {},
   "outputs": [],
   "source": [
    "sam_cell_re_pd.to_csv('sam_cell_re_pd',encoding='Euc-kr')"
   ]
  },
  {
   "cell_type": "code",
   "execution_count": null,
   "metadata": {},
   "outputs": [],
   "source": [
    "re_abs_re=np.all(re_abs<=0.002,axis=1)"
   ]
  },
  {
   "cell_type": "code",
   "execution_count": 37,
   "metadata": {},
   "outputs": [
    {
     "data": {
      "text/plain": [
       "array([[0.   , 0.033, 0.031, ..., 0.059, 0.059, 0.059],\n",
       "       [0.033, 0.   , 0.002, ..., 0.026, 0.026, 0.026],\n",
       "       [0.031, 0.002, 0.   , ..., 0.028, 0.028, 0.028],\n",
       "       ...,\n",
       "       [0.059, 0.026, 0.028, ..., 0.   , 0.   , 0.   ],\n",
       "       [0.059, 0.026, 0.028, ..., 0.   , 0.   , 0.   ],\n",
       "       [0.059, 0.026, 0.028, ..., 0.   , 0.   , 0.   ]])"
      ]
     },
     "execution_count": 37,
     "metadata": {},
     "output_type": "execute_result"
    }
   ],
   "source": [
    "re_abs"
   ]
  },
  {
   "cell_type": "code",
   "execution_count": 24,
   "metadata": {},
   "outputs": [
    {
     "data": {
      "text/plain": [
       "array([False, False, False, False, False, False, False, False, False,\n",
       "       False, False, False, False, False, False, False, False, False,\n",
       "       False, False, False, False, False, False, False, False, False,\n",
       "       False, False, False, False, False, False, False, False, False,\n",
       "       False, False, False, False, False, False, False, False, False,\n",
       "       False, False, False, False, False, False, False, False, False,\n",
       "       False, False, False, False, False, False, False, False, False,\n",
       "       False, False, False, False, False, False, False, False, False,\n",
       "       False, False, False, False, False, False, False, False, False,\n",
       "       False, False, False, False, False, False, False, False, False,\n",
       "       False, False, False, False, False, False, False, False, False,\n",
       "       False, False, False])"
      ]
     },
     "execution_count": 24,
     "metadata": {},
     "output_type": "execute_result"
    }
   ],
   "source": [
    "re_abs_re"
   ]
  },
  {
   "cell_type": "code",
   "execution_count": 46,
   "metadata": {},
   "outputs": [
    {
     "ename": "TypeError",
     "evalue": "where() takes no keyword arguments",
     "output_type": "error",
     "traceback": [
      "\u001b[1;31m---------------------------------------------------------------------------\u001b[0m",
      "\u001b[1;31mTypeError\u001b[0m                                 Traceback (most recent call last)",
      "\u001b[1;32m<ipython-input-46-64304fa15d43>\u001b[0m in \u001b[0;36m<module>\u001b[1;34m()\u001b[0m\n\u001b[0;32m      1\u001b[0m \u001b[1;31m# np.argsort : 정렬된 요소의 인덱스 반환\u001b[0m\u001b[1;33m\u001b[0m\u001b[1;33m\u001b[0m\u001b[0m\n\u001b[0;32m      2\u001b[0m \u001b[1;33m\u001b[0m\u001b[0m\n\u001b[1;32m----> 3\u001b[1;33m \u001b[0mre_abs_re\u001b[0m\u001b[1;33m=\u001b[0m\u001b[0mnp\u001b[0m\u001b[1;33m.\u001b[0m\u001b[0mwhere\u001b[0m\u001b[1;33m(\u001b[0m\u001b[0mre_abs\u001b[0m\u001b[1;33m<\u001b[0m\u001b[1;36m0.002\u001b[0m\u001b[1;33m,\u001b[0m\u001b[0maxis\u001b[0m\u001b[1;33m=\u001b[0m\u001b[1;36m1\u001b[0m\u001b[1;33m)\u001b[0m\u001b[1;33m\u001b[0m\u001b[0m\n\u001b[0m",
      "\u001b[1;31mTypeError\u001b[0m: where() takes no keyword arguments"
     ]
    }
   ],
   "source": [
    "# np.argsort : 정렬된 요소의 인덱스 반환\n",
    "\n",
    "re_abs_re=np.where(re_abs<0.002,axis=1) "
   ]
  },
  {
   "cell_type": "code",
   "execution_count": 18,
   "metadata": {},
   "outputs": [
    {
     "data": {
      "text/plain": [
       "(array([  0,   0,   0,   0,   0,   0,   0,   0,   0,   0,   0,   0,   0,\n",
       "          1,   1,   1,   1,   1,   2,   2,   2,   2,   3,   3,   3,   3,\n",
       "          4,   4,   4,   4,   4,   4,   4,   4,   4,   4,   4,   4,   4,\n",
       "          5,   5,   6,   6,   7,   7,   7,   7,   7,   8,   9,  10,  10,\n",
       "         10,  10,  10,  10,  10,  10,  10,  10,  10,  10,  10,  11,  12,\n",
       "         12,  12,  12,  12,  12,  12,  12,  12,  12,  12,  12,  12,  13,\n",
       "         13,  13,  13,  13,  13,  13,  13,  13,  13,  13,  13,  13,  14,\n",
       "         14,  14,  14,  14,  14,  14,  14,  14,  14,  14,  14,  14,  15,\n",
       "         15,  15,  15,  15,  15,  15,  15,  15,  15,  15,  15,  15,  16,\n",
       "         16,  16,  16,  16,  16,  16,  16,  16,  16,  16,  16,  16,  17,\n",
       "         17,  17,  17,  17,  17,  17,  17,  17,  17,  17,  17,  17,  18,\n",
       "         18,  18,  18,  18,  18,  18,  18,  18,  18,  18,  18,  18,  19,\n",
       "         19,  19,  19,  19,  19,  19,  19,  19,  19,  19,  19,  19,  20,\n",
       "         21,  21,  21,  21,  21,  21,  21,  21,  21,  21,  21,  21,  21,\n",
       "         22,  22,  23,  23,  23,  23,  23,  23,  23,  23,  23,  23,  23,\n",
       "         23,  23,  24,  24,  25,  25,  25,  25,  25,  25,  25,  26,  26,\n",
       "         26,  26,  26,  26,  26,  27,  27,  27,  27,  27,  28,  28,  28,\n",
       "         28,  29,  29,  29,  29,  29,  29,  29,  30,  30,  30,  30,  30,\n",
       "         30,  30,  31,  31,  31,  31,  32,  32,  32,  32,  33,  33,  33,\n",
       "         33,  34,  34,  34,  34,  35,  35,  35,  35,  36,  36,  37,  37,\n",
       "         38,  38,  39,  39,  40,  40,  40,  41,  41,  41,  41,  41,  41,\n",
       "         42,  42,  42,  42,  43,  43,  43,  43,  44,  44,  44,  44,  45,\n",
       "         45,  45,  45,  45,  45,  45,  45,  45,  45,  45,  45,  45,  45,\n",
       "         46,  46,  46,  46,  46,  46,  46,  46,  46,  46,  46,  46,  46,\n",
       "         46,  47,  47,  47,  47,  47,  47,  47,  47,  47,  47,  47,  47,\n",
       "         47,  47,  48,  48,  48,  48,  48,  48,  48,  48,  48,  48,  48,\n",
       "         48,  48,  48,  49,  49,  49,  49,  49,  49,  49,  49,  49,  49,\n",
       "         49,  49,  49,  49,  50,  51,  51,  51,  51,  51,  51,  51,  51,\n",
       "         51,  51,  51,  51,  51,  51,  52,  52,  52,  52,  52,  53,  53,\n",
       "         53,  53,  53,  54,  54,  54,  54,  54,  55,  55,  55,  55,  55,\n",
       "         55,  55,  55,  55,  55,  55,  55,  55,  55,  56,  56,  56,  56,\n",
       "         56,  56,  56,  56,  56,  56,  56,  56,  56,  56,  57,  57,  57,\n",
       "         57,  57,  57,  58,  58,  58,  58,  58,  58,  59,  59,  59,  60,\n",
       "         60,  60,  60,  60,  60,  60,  60,  60,  60,  60,  60,  60,  60,\n",
       "         61,  61,  61,  62,  62,  62,  63,  64,  64,  64,  64,  64,  64,\n",
       "         64,  64,  64,  64,  64,  64,  64,  64,  65,  65,  65,  65,  65,\n",
       "         65,  65,  65,  65,  65,  65,  65,  65,  65,  66,  66,  66,  66,\n",
       "         66,  66,  66,  66,  66,  66,  66,  66,  66,  66,  67,  67,  67,\n",
       "         67,  67,  67,  68,  68,  68,  68,  68,  68,  69,  69,  69,  69,\n",
       "         69,  69,  70,  70,  70,  70,  70,  70,  71,  71,  71,  71,  71,\n",
       "         71,  71,  71,  72,  72,  72,  72,  72,  72,  72,  72,  73,  73,\n",
       "         73,  74,  74,  74,  75,  75,  75,  75,  75,  75,  75,  75,  75,\n",
       "         75,  75,  75,  75,  75,  76,  76,  76,  76,  76,  76,  76,  76,\n",
       "         76,  76,  76,  76,  76,  76,  77,  77,  77,  78,  78,  78,  78,\n",
       "         78,  78,  78,  79,  80,  80,  80,  81,  81,  81,  81,  81,  82,\n",
       "         82,  82,  82,  82,  83,  83,  83,  84,  84,  84,  85,  85,  85,\n",
       "         86,  86,  86,  87,  87,  87,  88,  88,  88,  89,  90,  90,  91,\n",
       "         91,  92,  93,  93,  94,  94,  95,  95,  96,  96,  97,  97,  97,\n",
       "         97,  98,  98,  98,  98,  99,  99,  99,  99,  99,  99,  99,  99,\n",
       "        100, 100, 100, 100, 100, 100, 100, 100, 101, 101, 101, 101, 101,\n",
       "        101, 101], dtype=int64),\n",
       " array([  0,   4,  10,  12,  13,  14,  15,  16,  17,  18,  19,  21,  23,\n",
       "          1,   7,  78,  81,  82,   2,   3,  78,  80,   2,   3,  78,  80,\n",
       "          0,   4,  10,  12,  13,  14,  15,  16,  17,  18,  19,  21,  23,\n",
       "          5,   6,   5,   6,   1,   7,  78,  81,  82,   8,   9,   0,   4,\n",
       "         10,  12,  13,  14,  15,  16,  17,  18,  19,  21,  23,  11,   0,\n",
       "          4,  10,  12,  13,  14,  15,  16,  17,  18,  19,  21,  23,   0,\n",
       "          4,  10,  12,  13,  14,  15,  16,  17,  18,  19,  21,  23,   0,\n",
       "          4,  10,  12,  13,  14,  15,  16,  17,  18,  19,  21,  23,   0,\n",
       "          4,  10,  12,  13,  14,  15,  16,  17,  18,  19,  21,  23,   0,\n",
       "          4,  10,  12,  13,  14,  15,  16,  17,  18,  19,  21,  23,   0,\n",
       "          4,  10,  12,  13,  14,  15,  16,  17,  18,  19,  21,  23,   0,\n",
       "          4,  10,  12,  13,  14,  15,  16,  17,  18,  19,  21,  23,   0,\n",
       "          4,  10,  12,  13,  14,  15,  16,  17,  18,  19,  21,  23,  20,\n",
       "          0,   4,  10,  12,  13,  14,  15,  16,  17,  18,  19,  21,  23,\n",
       "         22,  24,   0,   4,  10,  12,  13,  14,  15,  16,  17,  18,  19,\n",
       "         21,  23,  22,  24,  25,  26,  29,  30,  99, 100, 101,  25,  26,\n",
       "         29,  30,  99, 100, 101,  27,  28,  42,  99, 100,  27,  28,  41,\n",
       "         42,  25,  26,  29,  30,  99, 100, 101,  25,  26,  29,  30,  99,\n",
       "        100, 101,  31,  32,  33,  41,  31,  32,  33,  41,  31,  32,  33,\n",
       "         41,  34,  35,  43,  44,  34,  35,  43,  44,  36,  37,  36,  37,\n",
       "         38,  39,  38,  39,  40,  73,  74,  28,  31,  32,  33,  41,  42,\n",
       "         27,  28,  41,  42,  34,  35,  43,  44,  34,  35,  43,  44,  45,\n",
       "         46,  47,  48,  49,  51,  55,  56,  60,  64,  65,  66,  75,  76,\n",
       "         45,  46,  47,  48,  49,  51,  55,  56,  60,  64,  65,  66,  75,\n",
       "         76,  45,  46,  47,  48,  49,  51,  55,  56,  60,  64,  65,  66,\n",
       "         75,  76,  45,  46,  47,  48,  49,  51,  55,  56,  60,  64,  65,\n",
       "         66,  75,  76,  45,  46,  47,  48,  49,  51,  55,  56,  60,  64,\n",
       "         65,  66,  75,  76,  50,  45,  46,  47,  48,  49,  51,  55,  56,\n",
       "         60,  64,  65,  66,  75,  76,  52,  53,  54,  57,  58,  52,  53,\n",
       "         54,  57,  58,  52,  53,  54,  57,  58,  45,  46,  47,  48,  49,\n",
       "         51,  55,  56,  60,  64,  65,  66,  75,  76,  45,  46,  47,  48,\n",
       "         49,  51,  55,  56,  60,  64,  65,  66,  75,  76,  52,  53,  54,\n",
       "         57,  58,  77,  52,  53,  54,  57,  58,  77,  59,  61,  62,  45,\n",
       "         46,  47,  48,  49,  51,  55,  56,  60,  64,  65,  66,  75,  76,\n",
       "         59,  61,  62,  59,  61,  62,  63,  45,  46,  47,  48,  49,  51,\n",
       "         55,  56,  60,  64,  65,  66,  75,  76,  45,  46,  47,  48,  49,\n",
       "         51,  55,  56,  60,  64,  65,  66,  75,  76,  45,  46,  47,  48,\n",
       "         49,  51,  55,  56,  60,  64,  65,  66,  75,  76,  67,  68,  69,\n",
       "         70,  71,  72,  67,  68,  69,  70,  71,  72,  67,  68,  69,  70,\n",
       "         71,  72,  67,  68,  69,  70,  71,  72,  67,  68,  69,  70,  71,\n",
       "         72,  97,  98,  67,  68,  69,  70,  71,  72,  97,  98,  40,  73,\n",
       "         74,  40,  73,  74,  45,  46,  47,  48,  49,  51,  55,  56,  60,\n",
       "         64,  65,  66,  75,  76,  45,  46,  47,  48,  49,  51,  55,  56,\n",
       "         60,  64,  65,  66,  75,  76,  57,  58,  77,   1,   2,   3,   7,\n",
       "         78,  81,  82,  79,   2,   3,  80,   1,   7,  78,  81,  82,   1,\n",
       "          7,  78,  81,  82,  83,  84,  85,  83,  84,  85,  83,  84,  85,\n",
       "         86,  87,  88,  86,  87,  88,  86,  87,  88,  89,  90,  91,  90,\n",
       "         91,  92,  93,  94,  93,  94,  95,  96,  95,  96,  71,  72,  97,\n",
       "         98,  71,  72,  97,  98,  25,  26,  27,  29,  30,  99, 100, 101,\n",
       "         25,  26,  27,  29,  30,  99, 100, 101,  25,  26,  29,  30,  99,\n",
       "        100, 101], dtype=int64))"
      ]
     },
     "execution_count": 18,
     "metadata": {},
     "output_type": "execute_result"
    }
   ],
   "source": [
    "re_abs_re"
   ]
  },
  {
   "cell_type": "code",
   "execution_count": null,
   "metadata": {},
   "outputs": [],
   "source": []
  }
 ],
 "metadata": {
  "kernelspec": {
   "display_name": "Python 3",
   "language": "python",
   "name": "python3"
  },
  "language_info": {
   "codemirror_mode": {
    "name": "ipython",
    "version": 3
   },
   "file_extension": ".py",
   "mimetype": "text/x-python",
   "name": "python",
   "nbconvert_exporter": "python",
   "pygments_lexer": "ipython3",
   "version": "3.6.5"
  }
 },
 "nbformat": 4,
 "nbformat_minor": 2
}
